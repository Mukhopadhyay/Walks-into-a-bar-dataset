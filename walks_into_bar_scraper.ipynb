{
 "cells": [
  {
   "cell_type": "code",
   "execution_count": 1,
   "id": "91da703e",
   "metadata": {},
   "outputs": [],
   "source": [
    "from typing import Dict, List\n",
    "from bs4 import BeautifulSoup\n",
    "import pandas as pd\n",
    "import requests\n",
    "import spacy"
   ]
  },
  {
   "cell_type": "code",
   "execution_count": 2,
   "id": "4d52ede0",
   "metadata": {},
   "outputs": [],
   "source": [
    "url: Dict[str, str] = {\n",
    "    'grammarbook': 'https://www.grammarbook.com/blog/definitions/walks-into-a-bar/',\n",
    "    'thrillist': 'https://www.thrillist.com/culture/best-walks-into-a-bar-jokes',\n",
    "    'jokojokes': 'https://jokojokes.com/walks-into-a-bar-jokes.html',\n",
    "    'gamertelligence': 'https://www.gamertelligence.com/walks-into-a-bar-jokes/'\n",
    "}"
   ]
  },
  {
   "cell_type": "code",
   "execution_count": 3,
   "id": "d401705e",
   "metadata": {},
   "outputs": [],
   "source": [
    "headers = {\n",
    "    'user-agent': 'Mozilla/5.0 (X11; Linux x86_64) AppleWebKit/537.36 (KHTML, like Gecko) Chrome/96.0.4664.93 Safari/537.36'\n",
    "}\n",
    "\n",
    "response = requests.get(url['grammarbook'], headers=headers)\n",
    "soup = BeautifulSoup(response.content, 'html.parser')\n",
    "\n",
    "div = soup.find_all('div', class_='content_user-content')[0]"
   ]
  },
  {
   "cell_type": "code",
   "execution_count": 4,
   "id": "ca4df5df",
   "metadata": {},
   "outputs": [
    {
     "name": "stdout",
     "output_type": "stream",
     "text": [
      "0. The phrase A ______ walks into a bar has provided the take-off point for an uncountable number of jokes over the years. No matter what one’s opinion is of bars, we hope that everyone can appreciate the lessons in English grammar contained in the clever sentences that follow:\n",
      "1. A dangling participle walks into a bar. Enjoying a cocktail and chatting with the bartender, the evening passes pleasantly.\n",
      "2. A bar was walked into by the passive voice.\n",
      "3. An oxymoron walked into a bar, and the silence was deafening.\n",
      "4. Two quotation marks walk into a “bar.”\n",
      "5. A malapropism walks into a bar, looking for all intensive purposes like a wolf in cheap clothing, muttering epitaphs and casting dispersions on his magnificent other, who takes him for granite.\n",
      "6. Hyperbole totally rips into this insane bar and absolutely destroys everything.\n",
      "7. A question mark walks into a bar?\n",
      "8. A non sequitur walks into a bar. In a strong wind, even turkeys can fly.\n",
      "9. Papyrus and Comic Sans walk into a bar. The bartender says, “Get out—we don’t serve your type.”\n",
      "10. A mixed metaphor walks into a bar, seeing the handwriting on the wall but hoping to nip it in the bud.\n",
      "11. A comma splice walks into a bar, it has a drink and then leaves.\n",
      "12. Three intransitive verbs walk into a bar. They sit. They converse. They depart.\n",
      "13. A synonym strolls into a tavern.\n",
      "14. At the end of the day, a cliché walks into a bar—fresh as a daisy, cute as a button, and sharp as a tack.\n",
      "15. A run-on sentence walks into a bar it starts flirting. With a cute little sentence fragment.\n",
      "16. Falling slowly, softly falling, the chiasmus collapses to the bar floor.\n",
      "17. A figure of speech literally walks into a bar and ends up getting figuratively hammered.\n",
      "18. An allusion walks into a bar, despite the fact that alcohol is its Achilles heel.\n",
      "19. The conditional would have walked into a bar, had it only known.\n",
      "20. A misplaced modifier walks into a bar owned by a man with a glass eye named Ralph.\n",
      "21. The past, present, and future walked into a bar. It was tense.\n",
      "22. A dyslexic walks into a bra.\n",
      "23. A verb walks into a bar, sees a beautiful noun, and suggests they conjugate. The noun declines.\n",
      "24. An Oxford comma walks into a bar, where it spends the evening watching the television getting drunk and smoking cigars.\n",
      "25. A simile walks into a bar, as parched as a desert.\n",
      "26. A gerund and an infinitive walk into a bar, drinking to forget.\n",
      "27. A hyphenated word and a non-hyphenated word walk into a bar and the bartender nearly chokes on the irony.\n",
      "28. Advertisement \n",
      "29. If the article or the existing discussions do not address a thought or question you have on the subject, please use the \"Comment\" box at the bottom of this page.Share\n",
      "Tweet\n",
      "Email   12 responses to “A _____ Walks Into a Bar”\t         Jeremy says:   April 11, 2018, at 4:50 pm  What a clever way of teaching English! I still don’t know why the noun declined to conjugate  Off the top of my head: A period walks into a bar, full stop. An alliteration boldly bounces into a bar and later walks away with a wobble. An onomatopoeia walks into a bar without a sound. Thanks so much for the great articles!      Jannis says:   April 21, 2018, at 10:45 pm  The noun must be Latin – Latin nouns decline, as do Latin teachers so they say.        Michael P. says:   April 19, 2018, at 2:56 pm  Papyrus and Comic Sans walk into a bar. The bartender says, “Get out—we don’t serve your type.” Hah, a virtual font of humor.      Tom says:   December 27, 2018, at 5:23 pm  An incomplete sentence into a bar. A double contraction walks into a bar although it oughtn’t’ve. An alliteration arrives at an authentic Alabama alehouse and asks for applejack. An Oxford comma walks into a bar, where it spends the evening with his old friend, a drunk and a felon. A synonym strolls into a tavern.      Marjorie says:   February 3, 2021, at 11:40 pm  An asterisk walks into a bar and sits with a quiet bibliography…        Gary L. Dryfoos says:   September 24, 2020, at 12:55 pm  A zeugma walks into a bar and the middle of a fierce argument. It knocks down a shot of bourbon and a pugnacious drunk. It leaves a generous tip and out the back door.      GrammarBook.com says:   October 1, 2020, at 7:15 pm  Clever. Many of us just learned a new word.        Joe Ellis says:   November 24, 2020, at 2:22 pm  A synecdoche walks into a bar and Hollywood turns it into a sitcom that runs for 11 seasons. A tautology walks into a bar, raises its glass upward, and announces to everyone present, “this is the first beer of the rest of your life!”      Steven w Bantle says:   May 6, 2021, at 11:45 am  An ellipsis walks into a…well it appeared to be a bar.      Clifton says:   May 21, 2021, at 7:12 am  An anagram WIAB, sat down, and looked around smugly. A spoonerism balked into a war, and couldn’t work out why everyone was confused. An exaggeration walked into a stupendous bar and ordered an exquisitively elegant drink. A misspelling walked into a bar to soshalize with its friends. An antonym stayed in the bar. A rhyme walked into a bar; and sat down wearily, it’d come so far.      John Barrington says:   June 21, 2021, at 12:01 am  A giraffe goes into a bar. The bartender says, “Why the soft ‘g’?”      George says:   November 30, 2021, at 5:07 pm  You mean an interrobang walked into a bar?!         Leave a Comment or Question: Cancel replyPlease ensure that your question or comment relates to the topic of the blog post. Unrelated comments may be deleted. If necessary, use the \"Search\" box on the right side of the page to find a post closely related to your question or comment.Your email address will not be published. Required fields are marked *Comment Name *  Email *     Δ  \n",
      "30. Share\n",
      "Tweet\n",
      "Email   12 responses to “A _____ Walks Into a Bar”\t         Jeremy says:   April 11, 2018, at 4:50 pm  What a clever way of teaching English! I still don’t know why the noun declined to conjugate  Off the top of my head: A period walks into a bar, full stop. An alliteration boldly bounces into a bar and later walks away with a wobble. An onomatopoeia walks into a bar without a sound. Thanks so much for the great articles!      Jannis says:   April 21, 2018, at 10:45 pm  The noun must be Latin – Latin nouns decline, as do Latin teachers so they say.        Michael P. says:   April 19, 2018, at 2:56 pm  Papyrus and Comic Sans walk into a bar. The bartender says, “Get out—we don’t serve your type.” Hah, a virtual font of humor.      Tom says:   December 27, 2018, at 5:23 pm  An incomplete sentence into a bar. A double contraction walks into a bar although it oughtn’t’ve. An alliteration arrives at an authentic Alabama alehouse and asks for applejack. An Oxford comma walks into a bar, where it spends the evening with his old friend, a drunk and a felon. A synonym strolls into a tavern.      Marjorie says:   February 3, 2021, at 11:40 pm  An asterisk walks into a bar and sits with a quiet bibliography…        Gary L. Dryfoos says:   September 24, 2020, at 12:55 pm  A zeugma walks into a bar and the middle of a fierce argument. It knocks down a shot of bourbon and a pugnacious drunk. It leaves a generous tip and out the back door.      GrammarBook.com says:   October 1, 2020, at 7:15 pm  Clever. Many of us just learned a new word.        Joe Ellis says:   November 24, 2020, at 2:22 pm  A synecdoche walks into a bar and Hollywood turns it into a sitcom that runs for 11 seasons. A tautology walks into a bar, raises its glass upward, and announces to everyone present, “this is the first beer of the rest of your life!”      Steven w Bantle says:   May 6, 2021, at 11:45 am  An ellipsis walks into a…well it appeared to be a bar.      Clifton says:   May 21, 2021, at 7:12 am  An anagram WIAB, sat down, and looked around smugly. A spoonerism balked into a war, and couldn’t work out why everyone was confused. An exaggeration walked into a stupendous bar and ordered an exquisitively elegant drink. A misspelling walked into a bar to soshalize with its friends. An antonym stayed in the bar. A rhyme walked into a bar; and sat down wearily, it’d come so far.      John Barrington says:   June 21, 2021, at 12:01 am  A giraffe goes into a bar. The bartender says, “Why the soft ‘g’?”      George says:   November 30, 2021, at 5:07 pm  You mean an interrobang walked into a bar?!         Leave a Comment or Question: Cancel replyPlease ensure that your question or comment relates to the topic of the blog post. Unrelated comments may be deleted. If necessary, use the \"Search\" box on the right side of the page to find a post closely related to your question or comment.Your email address will not be published. Required fields are marked *Comment Name *  Email *     Δ  \n",
      "31. What a clever way of teaching English! I still don’t know why the noun declined to conjugate \n",
      "32. Off the top of my head:\n",
      "33. A period walks into a bar, full stop.\n",
      "34. An alliteration boldly bounces into a bar and later walks away with a wobble.\n",
      "35. An onomatopoeia walks into a bar without a sound.\n",
      "36. Thanks so much for the great articles!\n",
      "37. The noun must be Latin – Latin nouns decline, as do Latin teachers so they say.\n",
      "38. Papyrus and Comic Sans walk into a bar. The bartender says, “Get out—we don’t serve your type.” Hah, a virtual font of humor.\n",
      "39. An incomplete sentence into a bar. A double contraction walks into a bar although it oughtn’t’ve. An alliteration arrives at an authentic Alabama alehouse and asks for applejack. An Oxford comma walks into a bar, where it spends the evening with his old friend, a drunk and a felon. A synonym strolls into a tavern.\n",
      "40. An asterisk walks into a bar and sits with a quiet bibliography…\n",
      "41. A zeugma walks into a bar and the middle of a fierce argument. It knocks down a shot of bourbon and a pugnacious drunk. It leaves a generous tip and out the back door.\n",
      "42. Clever. Many of us just learned a new word.\n",
      "43. A synecdoche walks into a bar and Hollywood turns it into a sitcom that runs for 11 seasons. A tautology walks into a bar, raises its glass upward, and announces to everyone present, “this is the first beer of the rest of your life!”\n",
      "44. An ellipsis walks into a…well it appeared to be a bar.\n",
      "45. An anagram WIAB, sat down, and looked around smugly. A spoonerism balked into a war, and couldn’t work out why everyone was confused. An exaggeration walked into a stupendous bar and ordered an exquisitively elegant drink. A misspelling walked into a bar to soshalize with its friends. An antonym stayed in the bar. A rhyme walked into a bar; and sat down wearily, it’d come so far.\n",
      "46. A giraffe goes into a bar. The bartender says, “Why the soft ‘g’?”\n",
      "47. You mean an interrobang walked into a bar?!\n",
      "48. Leave a Comment or Question: Cancel reply\n",
      "49. Please ensure that your question or comment relates to the topic of the blog post. Unrelated comments may be deleted. If necessary, use the \"Search\" box on the right side of the page to find a post closely related to your question or comment.Your email address will not be published. Required fields are marked *\n",
      "50. Comment \n",
      "51. Name * \n",
      "52. Email * \n",
      "53.    \n",
      "54. \n",
      "55. Δ\n"
     ]
    }
   ],
   "source": [
    "jokes: List[str] = []\n",
    "for i, item in enumerate(div.find_all('p')):\n",
    "    print(f\"{i}. {item.text}\")"
   ]
  },
  {
   "cell_type": "code",
   "execution_count": 5,
   "id": "6378f358",
   "metadata": {},
   "outputs": [
    {
     "data": {
      "text/plain": [
       "['A dangling participle walks into a bar. Enjoying a cocktail and chatting with the bartender, the evening passes pleasantly.',\n",
       " 'A bar was walked into by the passive voice.',\n",
       " 'An oxymoron walked into a bar, and the silence was deafening.',\n",
       " 'Two quotation marks walk into a “bar.”',\n",
       " 'A malapropism walks into a bar, looking for all intensive purposes like a wolf in cheap clothing, muttering epitaphs and casting dispersions on his magnificent other, who takes him for granite.',\n",
       " 'Hyperbole totally rips into this insane bar and absolutely destroys everything.',\n",
       " 'A question mark walks into a bar?',\n",
       " 'A non sequitur walks into a bar. In a strong wind, even turkeys can fly.',\n",
       " 'Papyrus and Comic Sans walk into a bar. The bartender says, “Get out—we don’t serve your type.”',\n",
       " 'A mixed metaphor walks into a bar, seeing the handwriting on the wall but hoping to nip it in the bud.',\n",
       " 'A comma splice walks into a bar, it has a drink and then leaves.',\n",
       " 'Three intransitive verbs walk into a bar. They sit. They converse. They depart.',\n",
       " 'A synonym strolls into a tavern.',\n",
       " 'At the end of the day, a cliché walks into a bar—fresh as a daisy, cute as a button, and sharp as a tack.',\n",
       " 'A run-on sentence walks into a bar it starts flirting. With a cute little sentence fragment.',\n",
       " 'Falling slowly, softly falling, the chiasmus collapses to the bar floor.',\n",
       " 'A figure of speech literally walks into a bar and ends up getting figuratively hammered.',\n",
       " 'An allusion walks into a bar, despite the fact that alcohol is its Achilles heel.',\n",
       " 'The conditional would have walked into a bar, had it only known.',\n",
       " 'A misplaced modifier walks into a bar owned by a man with a glass eye named Ralph.',\n",
       " 'The past, present, and future walked into a bar. It was tense.',\n",
       " 'A dyslexic walks into a bra.',\n",
       " 'A verb walks into a bar, sees a beautiful noun, and suggests they conjugate. The noun declines.',\n",
       " 'An Oxford comma walks into a bar, where it spends the evening watching the television getting drunk and smoking cigars.',\n",
       " 'A simile walks into a bar, as parched as a desert.',\n",
       " 'A gerund and an infinitive walk into a bar, drinking to forget.',\n",
       " 'A hyphenated word and a non-hyphenated word walk into a bar and the bartender nearly chokes on the irony.']"
      ]
     },
     "execution_count": 5,
     "metadata": {},
     "output_type": "execute_result"
    }
   ],
   "source": [
    "for item in div.find_all('p'):\n",
    "    jokes.append(item.text)\n",
    "    \n",
    "jokes = jokes[1:28]\n",
    "jokes"
   ]
  },
  {
   "cell_type": "code",
   "execution_count": 6,
   "id": "370c0ef0",
   "metadata": {},
   "outputs": [],
   "source": [
    "response = requests.get(url['thrillist'], headers=headers)    "
   ]
  },
  {
   "cell_type": "code",
   "execution_count": 7,
   "id": "3651598a",
   "metadata": {},
   "outputs": [
    {
     "data": {
      "text/plain": [
       "['You may think you’ve heard every joke that begins, “So X walks into a bar,” but we’re pretty confident you’ve missed a few. Refresh your dad joke repertoire and earn your rightful place as the resident comic at your local bar with these great “walks into a bar” jokes. (We promise not to tell anyone where you got all your material.) ',\n",
       " ' A guy walks into a bar and asks for 10 shots of the establishment’s finest single malt scotch. The bartender sets him up, and the guy takes the first shot in the row and pours it on the floor. He then takes the last shot in the row and does the same. The bartender asks, \"Why did you do that?\" And the guy replies, \"Well the first shot always tastes like crap, and the last one always makes me sick!\" ',\n",
       " ' Three vampires walk into a bar. The first one says, \"I\\'ll have a pint of blood.\" The second one says, \"I\\'ll have one, too.\" The third one says, \"I\\'ll have a pint of plasma.\" The bartender says, \"So, that\\'ll be two Bloods and a Blood Lite?\" ',\n",
       " ' A guy walks into a bar after a long day at work and orders a drink. As he sits there, mulling over his day, he hears a high-pitched voice say, \"That shirt looks great on you!” The man looks around, doesn’t see anything, and returns to his drink thinking nothing more of it. But then, a moment later, the voice returns, this time offering, “You seem like a really cool guy!” Again, the man looks around, sees nothing, and returns to his drink, wondering if he should get checked out by a professional. Finally, when his nerves have cooled and he believes the voice is gone, he hears, “I bet your parents are really proud of you!” He slams down his drink and looks around wildly. Frustrated and finding no possible source of the voice, he calls over the bartender. He says, “Hey barkeep! What’s that voice I keep hearing?” “Oh, those are the peanuts,” the bartender replies. “They’re complimentary.” ',\n",
       " ' A neutron walks into a bar and orders a drink. When the neutron gets his drink, he asks, \"Bartender, how much do I owe you?\" The bartender replies, \"For you, neutron, no charge.\" ',\n",
       " ' A man walks into a bar and sees his friend sitting beside a 12-inch pianist. He says to his friend, \"That\\'s amazing. Where did he come from?\" The friend pulls out an old lamp and tells him the genie inside will grant him one wish. The man rubs the bottle, and to his amazement, a puff of purple smoke spews out and slowly collects in the form of a genie. In a booming voice the genie tells the man he has but one wish. The man thinks and says, \"I wish I had a million bucks.\" All of a sudden the bar is filled with ducks, bursting from the door and the windows, standing on top of the bar, dunking their heads into people’s drinks. “What just happened?!” the guy asks. His friend replies, \"I know. Did you really think I wanted a 12-inch pianist?\"  ',\n",
       " ' A gorilla walks into a bar and says, \"A scotch on the rocks, please.\" The gorilla hands the bartender a $10 bill. The bartender thinks to himself, \"This gorilla doesn\\'t know the prices of drinks,\" and gives him 15 cents change. The bartender says, \"You know, we don\\'t get too many gorillas in here.\" The gorilla replies, \"Well, at $9.85 a drink, I ain\\'t coming back, either.\" ',\n",
       " \" E-flat walks into a bar. The bartender says, “Sorry, we don't serve minors.”  \",\n",
       " ' Julius Caesar walks into a bar and says, \"I\\'ll have a Martinus.\" The bartender gives him a puzzled look and asks, \"Don\\'t you mean a Martini?\" \"Look,\" Caesar replies, \"If I wanted a double, I\\'d have asked for it!\"  ',\n",
       " ' A duck walks into a bar and says to the bartender, \"I\\'d like to buy some peanuts.\" The bartender says, \"Sorry, don\\'t sell peanuts.\" The duck leaves. The next day, the duck returns and again says, \"I want to buy some peanuts.\" The bartender replies, a bit gruffly this time, \"I already told you I don\\'t sell peanuts.\" The duck leaves. The next day, the duck comes in once again and yet again demands, \"I want to buy some peanuts!\" The outraged bartender yells back, \"I told you, I don\\'t sell peanuts! If you ask one more time, I\\'ll nail you to the wall!\" The duck leaves. The next day, the duck walks into the bar and before the bartender can say a word, the duck asks, \"Do you have any nails?\" The bartender looks taken aback and says quietly, \"Sorry, don\\'t have nails.\" The duck asks, \"Well then, do you have any peanuts?\" ',\n",
       " ' A horse walks into a bar. The shocked bartender points a finger his way in alarm and yells, “Hey!” The horse says, “You read my mind, buddy.” ',\n",
       " ' A guy walks into a bar and is shocked to see a horse tending bar. As the horse finishes preparing an excellent Horse’s Neck, he turns to the awestruck patron and demands, \"Hey buddy, what\\'s the matter? You can\\'t believe that a horse can tend bar?\" \"No,\" the guys says. \"I can\\'t believe the ferret sold the place.\" ',\n",
       " ' A horse walks into a bar, and the bartender asks what he’d like. The horse doesn’t reply because it’s a horse and obviously can’t speak or understand English. Several people get up and leave, sensing the danger in having a live animal in a bar.  ',\n",
       " ' A mushroom walks into a bar and orders a drink, but the bartender yells at him to get out before he stinks up the place. The mushroom looks taken aback and says, “Why? I’m a fun guy.”  ',\n",
       " ' Two friends are walking their dogs together. One has a big black lab, while the other has a minuscule chihuahua. They pass a bar and the lab owner says, \"Let\\'s get a beer.\" The chihuahua walker complains, \"That would be great, but we can\\'t take our dogs in there.\" The first responds, \"Watch me.\" The lab owner strolls in with her dog and orders a beer. The bartender tells her, \"Sorry, you can\\'t bring your dog in here.\" \"He\\'s my seeing eye dog,\" the woman replies feigning offense. The bartender quickly apologizes and serves her the beer. The other woman follows, her chihuahua in tow, and orders a beer as well. Again the bartender says there are no dogs allowed in the bar. \"He\\'s my seeing eye dog,\" the woman replies. \"Yeah, right,” the bartender says, “A chihuahua? Give me a break.\" Without missing a beat, the woman replies, \"They gave me a chihuahua?!\" ',\n",
       " ' A guy walks into a bar and orders 12 shots. Before the bartender even returns with the check, the man has slammed back half of them and shows no signs of slowing down. As the guy finishes his final shot, the bartender asks, \"Why are you drinking so fast?\" The guy wipes his mouth and replies, \"You would be drinking fast, too, if you had what I had.\" The bartender asks, \"What do you have?\" The guy says, \"75 cents,” and runs out the door. ',\n",
       " ' A sandwich walks into a bar. The bartender says, “Sorry, we don’t serve food here.”  ',\n",
       " ' A young man is passing by a bar when he sees an old woman fishing with a stick and a string in a puddle by the sidewalk. “She must be a poor old fool,” he thinks to himself, and out of the kindness of his heart, he invites the woman in for a drink. After he’s paid for their round and the two are sitting quietly, he asks her, “So how many have you caught today?” The old woman grins, takes a big sip of her drink, and replies, “You’re the eighth.” ',\n",
       " ' A lion walks into a bar and asks the bartender, “Do you have any jobs?” The bartender shakes his head sadly and says, “No, sorry. Why don’t you try the circus?” The lion replies, “Why would the circus need a bartender?” ',\n",
       " ' A bartender says, “We don’t serve time travelers in here.” A time traveler walks into a bar. ',\n",
       " ' The past, present and future walk into a bar. It was tense.  ',\n",
       " ' A three-legged dog walks into a saloon, his spurs clinking as he walks, his six-shooter slapping at his furry hip. He bellies up to the bar, stares down the bartender, and proclaims, \"I\\'m looking for the man who shot my paw.\"  ',\n",
       " ' A rabbi, a priest, and a Lutheran minister walk into a bar. The bartender looks up and says, \"Is this some kind of joke?\"  ']"
      ]
     },
     "execution_count": 7,
     "metadata": {},
     "output_type": "execute_result"
    }
   ],
   "source": [
    "soup = BeautifulSoup(response.content, 'html.parser')\n",
    "\n",
    "\n",
    "jokes_thrillist = list(map(lambda para: para.text, soup.find_all('p')))\n",
    "jokes_thrillist = jokes_thrillist[1:-1]\n",
    "jokes_thrillist"
   ]
  },
  {
   "cell_type": "code",
   "execution_count": 8,
   "id": "1b392206",
   "metadata": {},
   "outputs": [],
   "source": [
    "jokes += jokes_thrillist"
   ]
  },
  {
   "cell_type": "code",
   "execution_count": 9,
   "id": "c20b9a33",
   "metadata": {},
   "outputs": [],
   "source": [
    "response = requests.get(url['jokojokes'], headers=headers)"
   ]
  },
  {
   "cell_type": "code",
   "execution_count": 10,
   "id": "bff931a2",
   "metadata": {},
   "outputs": [],
   "source": [
    "soup = BeautifulSoup(response.content, 'html.parser')\n",
    "\n",
    "\n",
    "list_jokojokes = list(map(lambda div: div.text, soup.find_all('div', class_='listjoke')))\n",
    "for joke in list_jokojokes:\n",
    "    jokes.append(joke.replace('👍🏼', ''))"
   ]
  },
  {
   "cell_type": "code",
   "execution_count": 11,
   "id": "599e99cd",
   "metadata": {},
   "outputs": [
    {
     "name": "stdout",
     "output_type": "stream",
     "text": [
      "Three conspiracy theorists walk into a bar\n",
      "Three nummod\n",
      "conspiracy compound\n",
      "theorists nsubj\n",
      "walk ROOT\n",
      "into prep\n",
      "a det\n",
      "bar pobj\n"
     ]
    }
   ],
   "source": [
    "nlp = spacy.load('en_core_web_sm')\n",
    "sample_text = \"Three conspiracy theorists walk into a bar\"\n",
    "\n",
    "doc = nlp(sample_text)\n",
    "print(sample_text)\n",
    "\n",
    "for tok in doc:\n",
    "    print(tok, tok.dep_)"
   ]
  },
  {
   "cell_type": "code",
   "execution_count": 12,
   "id": "ac921ca9",
   "metadata": {},
   "outputs": [],
   "source": [
    "response = requests.get(url['gamertelligence'], headers=headers)\n",
    "# this website has the jokes categorized into different genres, which can be\n",
    "# used later for genre categorization"
   ]
  },
  {
   "cell_type": "code",
   "execution_count": 13,
   "id": "14d4724c",
   "metadata": {},
   "outputs": [],
   "source": [
    "soup = BeautifulSoup(response.content, 'html.parser')\n",
    "\n",
    "outer = soup.find_all(id='Best')[0].parent"
   ]
  },
  {
   "cell_type": "code",
   "execution_count": null,
   "id": "04bd0807",
   "metadata": {},
   "outputs": [],
   "source": []
  }
 ],
 "metadata": {
  "kernelspec": {
   "display_name": "Python 3 (ipykernel)",
   "language": "python",
   "name": "python3"
  },
  "language_info": {
   "codemirror_mode": {
    "name": "ipython",
    "version": 3
   },
   "file_extension": ".py",
   "mimetype": "text/x-python",
   "name": "python",
   "nbconvert_exporter": "python",
   "pygments_lexer": "ipython3",
   "version": "3.9.7"
  }
 },
 "nbformat": 4,
 "nbformat_minor": 5
}
