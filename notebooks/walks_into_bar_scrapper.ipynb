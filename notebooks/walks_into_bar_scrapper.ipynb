{
 "cells": [
  {
   "cell_type": "markdown",
   "id": "a950a52a",
   "metadata": {},
   "source": [
    "# Walks into a bar jokes\n",
    "\n",
    "This is a notebook for webscraping walks-into-a-bar jokes from 4 different websites listed on later cells.\n",
    "The final dataset is generated using this notebook."
   ]
  },
  {
   "cell_type": "markdown",
   "id": "e82cf6c4",
   "metadata": {},
   "source": [
    "## Imports"
   ]
  },
  {
   "cell_type": "code",
   "execution_count": 1,
   "id": "91da703e",
   "metadata": {},
   "outputs": [],
   "source": [
    "from typing import Dict, List\n",
    "import re\n",
    "import time\n",
    "\n",
    "\n",
    "import numpy as np\n",
    "import pandas as pd\n",
    "from pandas import options\n",
    "\n",
    "import requests\n",
    "from bs4 import BeautifulSoup\n",
    "from seleniumconfig import get_driver\n",
    "from selenium.webdriver.common.by import By\n",
    "\n",
    "import matplotlib.pyplot as plt\n",
    "\n",
    "from wordcloud import WordCloud\n",
    "from PIL import Image\n",
    "\n",
    "import warnings\n",
    "warnings.filterwarnings('ignore')\n"
   ]
  },
  {
   "cell_type": "markdown",
   "id": "68bf82d1",
   "metadata": {},
   "source": [
    "## URLS\n",
    "\n",
    "The following are the sources I have used to collect the jokes."
   ]
  },
  {
   "cell_type": "code",
   "execution_count": 2,
   "id": "4d52ede0",
   "metadata": {},
   "outputs": [],
   "source": [
    "urls: Dict[str, str] = {\n",
    "    'grammarbook': 'https://www.grammarbook.com/blog/definitions/walks-into-a-bar/',\n",
    "    'thrillist': 'https://www.thrillist.com/culture/best-walks-into-a-bar-jokes',\n",
    "    'jokojokes': 'https://jokojokes.com/walks-into-a-bar-jokes.html',\n",
    "    'gamertelligence': 'https://www.gamertelligence.com/walks-into-a-bar-jokes/'\n",
    "}"
   ]
  },
  {
   "cell_type": "markdown",
   "id": "8bbbf88b",
   "metadata": {},
   "source": [
    "### 1. Extracting `www.grammarbook.com`\n",
    "\n",
    "Almost all the jokes here are in the form of `<p>` tags under `div` class `content_user-content`\n",
    "There are some bits of non-joke texts as well which I had to painstakingly find the indices of, and \n",
    "pass them for pruning.\n",
    "Its pretty brute-force but I couldn't think of any better idea."
   ]
  },
  {
   "cell_type": "code",
   "execution_count": 3,
   "id": "d401705e",
   "metadata": {},
   "outputs": [],
   "source": [
    "# requests user-agent config\n",
    "\n",
    "headers = {\n",
    "    'user-agent': 'Mozilla/5.0 (X11; Linux x86_64) AppleWebKit/537.36 (KHTML, like Gecko) Chrome/96.0.4664.93 Safari/537.36'\n",
    "}\n",
    "\n",
    "response = requests.get(urls['grammarbook'], headers=headers)\n",
    "soup = BeautifulSoup(response.content, 'html.parser')\n",
    "\n",
    "div = soup.find_all('div', class_='content_user-content')[0]"
   ]
  },
  {
   "cell_type": "code",
   "execution_count": 4,
   "id": "c5d18ffe",
   "metadata": {},
   "outputs": [
    {
     "name": "stdout",
     "output_type": "stream",
     "text": [
      "The phrase A ______ walks into a bar has provided the take-off point for an uncountable number of jokes over the years. No matter what one’s opinion is of bars, we hope that everyone can appreciate the lessons in English grammar contained in the clever sentences that follow:\n",
      "A dangling participle walks into a bar. Enjoying a cocktail and chatting with the bartender, the evening passes pleasantly.\n",
      "A bar was walked into by the passive voice.\n",
      "An oxymoron walked into a bar, and the silence was deafening.\n",
      "Two quotation marks walk into a “bar.”\n",
      "A malapropism walks into a bar, looking for all intensive purposes like a wolf in cheap clothing, muttering epitaphs and casting dispersions on his magnificent other, who takes him for granite.\n",
      "Hyperbole totally rips into this insane bar and absolutely destroys everything.\n",
      "A question mark walks into a bar?\n",
      "A non sequitur walks into a bar. In a strong wind, even turkeys can fly.\n",
      "Papyrus and Comic Sans walk into a bar. The bartender says, “Get out—we don’t serve your type.”\n",
      "A mixed metaphor walks into a bar, seeing the handwriting on the wall but hoping to nip it in the bud.\n",
      "A comma splice walks into a bar, it has a drink and then leaves.\n",
      "Three intransitive verbs walk into a bar. They sit. They converse. They depart.\n",
      "A synonym strolls into a tavern.\n",
      "At the end of the day, a cliché walks into a bar—fresh as a daisy, cute as a button, and sharp as a tack.\n",
      "A run-on sentence walks into a bar it starts flirting. With a cute little sentence fragment.\n",
      "Falling slowly, softly falling, the chiasmus collapses to the bar floor.\n",
      "A figure of speech literally walks into a bar and ends up getting figuratively hammered.\n",
      "An allusion walks into a bar, despite the fact that alcohol is its Achilles heel.\n",
      "The conditional would have walked into a bar, had it only known.\n",
      "A misplaced modifier walks into a bar owned by a man with a glass eye named Ralph.\n",
      "The past, present, and future walked into a bar. It was tense.\n",
      "A dyslexic walks into a bra.\n",
      "A verb walks into a bar, sees a beautiful noun, and suggests they conjugate. The noun declines.\n",
      "An Oxford comma walks into a bar, where it spends the evening watching the television getting drunk and smoking cigars.\n",
      "A simile walks into a bar, as parched as a desert.\n",
      "A gerund and an infinitive walk into a bar, drinking to forget.\n",
      "A hyphenated word and a non-hyphenated word walk into a bar and the bartender nearly chokes on the irony.\n",
      "Advertisement \n",
      "If the article or the existing discussions do not address a thought or question you have on the subject, please use the \"Comment\" box at the bottom of this page.Share\n",
      "Tweet\n",
      "Email   14 responses to “A _____ Walks Into a Bar”\t         Jeremy says:   April 11, 2018, at 4:50 pm  What a clever way of teaching English! I still don’t know why the noun declined to conjugate  Off the top of my head: A period walks into a bar, full stop. An alliteration boldly bounces into a bar and later walks away with a wobble. An onomatopoeia walks into a bar without a sound. Thanks so much for the great articles!      Jannis says:   April 21, 2018, at 10:45 pm  The noun must be Latin – Latin nouns decline, as do Latin teachers so they say.        Michael P. says:   April 19, 2018, at 2:56 pm  Papyrus and Comic Sans walk into a bar. The bartender says, “Get out—we don’t serve your type.” Hah, a virtual font of humor.      Tom says:   December 27, 2018, at 5:23 pm  An incomplete sentence into a bar. A double contraction walks into a bar although it oughtn’t’ve. An alliteration arrives at an authentic Alabama alehouse and asks for applejack. An Oxford comma walks into a bar, where it spends the evening with his old friend, a drunk and a felon. A synonym strolls into a tavern.      Marjorie says:   February 3, 2021, at 11:40 pm  An asterisk walks into a bar and sits with a quiet bibliography…        Gary L. Dryfoos says:   September 24, 2020, at 12:55 pm  A zeugma walks into a bar and the middle of a fierce argument. It knocks down a shot of bourbon and a pugnacious drunk. It leaves a generous tip and out the back door.      GrammarBook.com says:   October 1, 2020, at 7:15 pm  Clever. Many of us just learned a new word.        Joe Ellis says:   November 24, 2020, at 2:22 pm  A synecdoche walks into a bar and Hollywood turns it into a sitcom that runs for 11 seasons. A tautology walks into a bar, raises its glass upward, and announces to everyone present, “this is the first beer of the rest of your life!”      Steven w Bantle says:   May 6, 2021, at 11:45 am  An ellipsis walks into a…well it appeared to be a bar.      Clifton says:   May 21, 2021, at 7:12 am  An anagram WIAB, sat down, and looked around smugly. A spoonerism balked into a war, and couldn’t work out why everyone was confused. An exaggeration walked into a stupendous bar and ordered an exquisitively elegant drink. A misspelling walked into a bar to soshalize with its friends. An antonym stayed in the bar. A rhyme walked into a bar; and sat down wearily, it’d come so far.      John Barrington says:   June 21, 2021, at 12:01 am  A giraffe goes into a bar. The bartender says, “Why the soft ‘g’?”      George says:   November 30, 2021, at 5:07 pm  You mean an interrobang walked into a bar?!      Vita Pennington says:   January 14, 2022, at 10:30 pm  What are these jokes called literature wise? Is there a special name for them?      GrammarBook.com says:   January 20, 2022, at 10:50 am  No, there is no special name.           Leave a Comment or Question: Cancel replyPlease ensure that your question or comment relates to the topic of the blog post. Unrelated comments may be deleted. If necessary, use the \"Search\" box on the right side of the page to find a post closely related to your question or comment.Your email address will not be published. Required fields are marked *Comment Name *  Email *     Δ  \n",
      "Share\n",
      "Tweet\n",
      "Email   14 responses to “A _____ Walks Into a Bar”\t         Jeremy says:   April 11, 2018, at 4:50 pm  What a clever way of teaching English! I still don’t know why the noun declined to conjugate  Off the top of my head: A period walks into a bar, full stop. An alliteration boldly bounces into a bar and later walks away with a wobble. An onomatopoeia walks into a bar without a sound. Thanks so much for the great articles!      Jannis says:   April 21, 2018, at 10:45 pm  The noun must be Latin – Latin nouns decline, as do Latin teachers so they say.        Michael P. says:   April 19, 2018, at 2:56 pm  Papyrus and Comic Sans walk into a bar. The bartender says, “Get out—we don’t serve your type.” Hah, a virtual font of humor.      Tom says:   December 27, 2018, at 5:23 pm  An incomplete sentence into a bar. A double contraction walks into a bar although it oughtn’t’ve. An alliteration arrives at an authentic Alabama alehouse and asks for applejack. An Oxford comma walks into a bar, where it spends the evening with his old friend, a drunk and a felon. A synonym strolls into a tavern.      Marjorie says:   February 3, 2021, at 11:40 pm  An asterisk walks into a bar and sits with a quiet bibliography…        Gary L. Dryfoos says:   September 24, 2020, at 12:55 pm  A zeugma walks into a bar and the middle of a fierce argument. It knocks down a shot of bourbon and a pugnacious drunk. It leaves a generous tip and out the back door.      GrammarBook.com says:   October 1, 2020, at 7:15 pm  Clever. Many of us just learned a new word.        Joe Ellis says:   November 24, 2020, at 2:22 pm  A synecdoche walks into a bar and Hollywood turns it into a sitcom that runs for 11 seasons. A tautology walks into a bar, raises its glass upward, and announces to everyone present, “this is the first beer of the rest of your life!”      Steven w Bantle says:   May 6, 2021, at 11:45 am  An ellipsis walks into a…well it appeared to be a bar.      Clifton says:   May 21, 2021, at 7:12 am  An anagram WIAB, sat down, and looked around smugly. A spoonerism balked into a war, and couldn’t work out why everyone was confused. An exaggeration walked into a stupendous bar and ordered an exquisitively elegant drink. A misspelling walked into a bar to soshalize with its friends. An antonym stayed in the bar. A rhyme walked into a bar; and sat down wearily, it’d come so far.      John Barrington says:   June 21, 2021, at 12:01 am  A giraffe goes into a bar. The bartender says, “Why the soft ‘g’?”      George says:   November 30, 2021, at 5:07 pm  You mean an interrobang walked into a bar?!      Vita Pennington says:   January 14, 2022, at 10:30 pm  What are these jokes called literature wise? Is there a special name for them?      GrammarBook.com says:   January 20, 2022, at 10:50 am  No, there is no special name.           Leave a Comment or Question: Cancel replyPlease ensure that your question or comment relates to the topic of the blog post. Unrelated comments may be deleted. If necessary, use the \"Search\" box on the right side of the page to find a post closely related to your question or comment.Your email address will not be published. Required fields are marked *Comment Name *  Email *     Δ  \n",
      "What a clever way of teaching English! I still don’t know why the noun declined to conjugate \n",
      "Off the top of my head:\n",
      "A period walks into a bar, full stop.\n",
      "An alliteration boldly bounces into a bar and later walks away with a wobble.\n",
      "An onomatopoeia walks into a bar without a sound.\n",
      "Thanks so much for the great articles!\n",
      "The noun must be Latin – Latin nouns decline, as do Latin teachers so they say.\n",
      "Papyrus and Comic Sans walk into a bar. The bartender says, “Get out—we don’t serve your type.” Hah, a virtual font of humor.\n",
      "An incomplete sentence into a bar. A double contraction walks into a bar although it oughtn’t’ve. An alliteration arrives at an authentic Alabama alehouse and asks for applejack. An Oxford comma walks into a bar, where it spends the evening with his old friend, a drunk and a felon. A synonym strolls into a tavern.\n",
      "An asterisk walks into a bar and sits with a quiet bibliography…\n",
      "A zeugma walks into a bar and the middle of a fierce argument. It knocks down a shot of bourbon and a pugnacious drunk. It leaves a generous tip and out the back door.\n",
      "Clever. Many of us just learned a new word.\n",
      "A synecdoche walks into a bar and Hollywood turns it into a sitcom that runs for 11 seasons. A tautology walks into a bar, raises its glass upward, and announces to everyone present, “this is the first beer of the rest of your life!”\n",
      "An ellipsis walks into a…well it appeared to be a bar.\n",
      "An anagram WIAB, sat down, and looked around smugly. A spoonerism balked into a war, and couldn’t work out why everyone was confused. An exaggeration walked into a stupendous bar and ordered an exquisitively elegant drink. A misspelling walked into a bar to soshalize with its friends. An antonym stayed in the bar. A rhyme walked into a bar; and sat down wearily, it’d come so far.\n",
      "A giraffe goes into a bar. The bartender says, “Why the soft ‘g’?”\n",
      "You mean an interrobang walked into a bar?!\n",
      "What are these jokes called literature wise? Is there a special name for them?\n",
      "No, there is no special name.\n",
      "Leave a Comment or Question: Cancel reply\n",
      "Please ensure that your question or comment relates to the topic of the blog post. Unrelated comments may be deleted. If necessary, use the \"Search\" box on the right side of the page to find a post closely related to your question or comment.Your email address will not be published. Required fields are marked *\n",
      "Comment \n",
      "Name * \n",
      "Email * \n",
      "   \n",
      "\n",
      "Δ\n"
     ]
    }
   ],
   "source": [
    "for item in div.find_all('p'):\n",
    "    print(item.get_text())"
   ]
  },
  {
   "cell_type": "code",
   "execution_count": 5,
   "id": "ca4df5df",
   "metadata": {},
   "outputs": [],
   "source": [
    "jokes_list: List[str] = []\n",
    "\n",
    "garbage_idx: List[int] = [0, *range(28, 33), 36, 37, 42, *range(48, 58)]\n",
    "\n",
    "\n",
    "for i, item in enumerate(div.find_all('p')):\n",
    "    if i not in garbage_idx:\n",
    "        jokes_list += item.get_text(strip=True, separator='\\n').splitlines()"
   ]
  },
  {
   "cell_type": "code",
   "execution_count": 6,
   "id": "4811c9c5",
   "metadata": {},
   "outputs": [
    {
     "name": "stdout",
     "output_type": "stream",
     "text": [
      "0: A dangling participle walks into a bar. Enjoying a cocktail and chatting with the bartender, the evening passes pleasantly.\n",
      "1: A bar was walked into by the passive voice.\n",
      "2: An oxymoron walked into a bar, and the silence was deafening.\n",
      "3: Two quotation marks walk into a “bar.”\n",
      "4: A malapropism walks into a bar, looking for all intensive purposes like a wolf in cheap clothing, muttering epitaphs and casting dispersions on his magnificent other, who takes him for granite.\n",
      "5: Hyperbole totally rips into this insane bar and absolutely destroys everything.\n",
      "6: A question mark walks into a bar?\n",
      "7: A non sequitur walks into a bar. In a strong wind, even turkeys can fly.\n",
      "8: Papyrus and Comic Sans walk into a bar. The bartender says, “Get out—we don’t serve your type.”\n",
      "9: A mixed metaphor walks into a bar, seeing the handwriting on the wall but hoping to nip it in the bud.\n",
      "10: A comma splice walks into a bar, it has a drink and then leaves.\n",
      "11: Three intransitive verbs walk into a bar. They sit. They converse. They depart.\n",
      "12: A synonym strolls into a tavern.\n",
      "13: At the end of the day, a cliché walks into a bar—fresh as a daisy, cute as a button, and sharp as a tack.\n",
      "14: A run-on sentence walks into a bar it starts flirting. With a cute little sentence fragment.\n",
      "15: Falling slowly, softly falling, the chiasmus collapses to the bar floor.\n",
      "16: A figure of speech literally walks into a bar and ends up getting figuratively hammered.\n",
      "17: An allusion walks into a bar, despite the fact that alcohol is its Achilles heel.\n",
      "18: The conditional would have walked into a bar, had it only known.\n",
      "19: A misplaced modifier walks into a bar owned by a man with a glass eye named Ralph.\n",
      "20: The past, present, and future walked into a bar. It was tense.\n",
      "21: A dyslexic walks into a bra.\n",
      "22: A verb walks into a bar, sees a beautiful noun, and suggests they conjugate. The noun declines.\n",
      "23: An Oxford comma walks into a bar, where it spends the evening watching the television getting drunk and smoking cigars.\n",
      "24: A simile walks into a bar, as parched as a desert.\n",
      "25: A gerund and an infinitive walk into a bar, drinking to forget.\n",
      "26: A hyphenated word and a non-hyphenated word walk into a bar and the bartender nearly chokes on the irony.\n",
      "27: A period walks into a bar, full stop.\n",
      "28: An alliteration boldly bounces into a bar and later walks away with a wobble.\n",
      "29: An onomatopoeia walks into a bar without a sound.\n",
      "30: Papyrus and Comic Sans walk into a bar. The bartender says, “Get out—we don’t serve your type.”\n",
      "31: Hah, a virtual font of humor.\n",
      "32: An incomplete sentence into a bar.\n",
      "33: A double contraction walks into a bar although it oughtn’t’ve.\n",
      "34: An alliteration arrives at an authentic Alabama alehouse and asks for applejack.\n",
      "35: An Oxford comma walks into a bar, where it spends the evening with his old friend, a drunk and a felon.\n",
      "36: A synonym strolls into a tavern.\n",
      "37: An asterisk walks into a bar and sits with a quiet bibliography…\n",
      "38: A zeugma walks into a bar and the middle of a fierce argument. It knocks down a shot of bourbon and a pugnacious drunk. It leaves a generous tip and out the back door.\n",
      "39: A synecdoche walks into a bar and Hollywood turns it into a sitcom that runs for 11 seasons.\n",
      "40: A tautology walks into a bar, raises its glass upward, and announces to everyone present, “this is the first beer of the rest of your life!”\n",
      "41: An ellipsis walks into a…well it appeared to be a bar.\n",
      "42: An anagram WIAB, sat down, and looked around smugly.\n",
      "43: A spoonerism balked into a war, and couldn’t work out why everyone was confused.\n",
      "44: An exaggeration walked into a stupendous bar and ordered an exquisitively elegant drink.\n",
      "45: A misspelling walked into a bar to soshalize with its friends.\n",
      "46: An antonym stayed in the bar.\n",
      "47: A rhyme walked into a bar; and sat down wearily, it’d come so far.\n",
      "48: A giraffe goes into a bar. The bartender says, “Why the soft ‘g’?”\n",
      "49: You mean an interrobang walked into a bar?!\n"
     ]
    }
   ],
   "source": [
    "for i, item in enumerate(jokes_list):\n",
    "    print(f\"{i}: {item}\")"
   ]
  },
  {
   "cell_type": "markdown",
   "id": "6e1c0d18",
   "metadata": {},
   "source": [
    "I create a dataframe `df_jokes` to store all the 50 jokes collected from the first website.\n",
    "`df_jokes` will serve as the main dataframe to append new jokes to."
   ]
  },
  {
   "cell_type": "code",
   "execution_count": 7,
   "id": "6378f358",
   "metadata": {},
   "outputs": [
    {
     "data": {
      "text/html": [
       "<div>\n",
       "<style scoped>\n",
       "    .dataframe tbody tr th:only-of-type {\n",
       "        vertical-align: middle;\n",
       "    }\n",
       "\n",
       "    .dataframe tbody tr th {\n",
       "        vertical-align: top;\n",
       "    }\n",
       "\n",
       "    .dataframe thead th {\n",
       "        text-align: right;\n",
       "    }\n",
       "</style>\n",
       "<table border=\"1\" class=\"dataframe\">\n",
       "  <thead>\n",
       "    <tr style=\"text-align: right;\">\n",
       "      <th></th>\n",
       "      <th>joke</th>\n",
       "    </tr>\n",
       "  </thead>\n",
       "  <tbody>\n",
       "    <tr>\n",
       "      <th>0</th>\n",
       "      <td>A dangling participle walks into a bar. Enjoyi...</td>\n",
       "    </tr>\n",
       "    <tr>\n",
       "      <th>1</th>\n",
       "      <td>A bar was walked into by the passive voice.</td>\n",
       "    </tr>\n",
       "    <tr>\n",
       "      <th>2</th>\n",
       "      <td>An oxymoron walked into a bar, and the silence...</td>\n",
       "    </tr>\n",
       "    <tr>\n",
       "      <th>3</th>\n",
       "      <td>Two quotation marks walk into a “bar.”</td>\n",
       "    </tr>\n",
       "    <tr>\n",
       "      <th>4</th>\n",
       "      <td>A malapropism walks into a bar, looking for al...</td>\n",
       "    </tr>\n",
       "  </tbody>\n",
       "</table>\n",
       "</div>"
      ],
      "text/plain": [
       "                                                joke\n",
       "0  A dangling participle walks into a bar. Enjoyi...\n",
       "1        A bar was walked into by the passive voice.\n",
       "2  An oxymoron walked into a bar, and the silence...\n",
       "3             Two quotation marks walk into a “bar.”\n",
       "4  A malapropism walks into a bar, looking for al..."
      ]
     },
     "execution_count": 7,
     "metadata": {},
     "output_type": "execute_result"
    }
   ],
   "source": [
    "df_jokes = pd.DataFrame({\n",
    "    'joke': jokes_list\n",
    "})\n",
    "\n",
    "df_jokes.head()"
   ]
  },
  {
   "cell_type": "code",
   "execution_count": 8,
   "id": "bdef1750",
   "metadata": {},
   "outputs": [],
   "source": [
    "# merge 30 & 31 as part of the same joke\n",
    "\n",
    "df_jokes.iloc[30].joke = df_jokes.iloc[30].joke + ' ' + df_jokes.iloc[31].joke\n",
    "df_jokes.drop(31, inplace=True)\n",
    "df_jokes.reset_index(drop=True, inplace=True)"
   ]
  },
  {
   "cell_type": "code",
   "execution_count": 9,
   "id": "9a4356bb",
   "metadata": {},
   "outputs": [
    {
     "data": {
      "text/html": [
       "<div>\n",
       "<style scoped>\n",
       "    .dataframe tbody tr th:only-of-type {\n",
       "        vertical-align: middle;\n",
       "    }\n",
       "\n",
       "    .dataframe tbody tr th {\n",
       "        vertical-align: top;\n",
       "    }\n",
       "\n",
       "    .dataframe thead th {\n",
       "        text-align: right;\n",
       "    }\n",
       "</style>\n",
       "<table border=\"1\" class=\"dataframe\">\n",
       "  <thead>\n",
       "    <tr style=\"text-align: right;\">\n",
       "      <th></th>\n",
       "      <th>joke</th>\n",
       "    </tr>\n",
       "  </thead>\n",
       "  <tbody>\n",
       "    <tr>\n",
       "      <th>0</th>\n",
       "      <td>A dangling participle walks into a bar. Enjoyi...</td>\n",
       "    </tr>\n",
       "    <tr>\n",
       "      <th>1</th>\n",
       "      <td>A bar was walked into by the passive voice.</td>\n",
       "    </tr>\n",
       "    <tr>\n",
       "      <th>2</th>\n",
       "      <td>An oxymoron walked into a bar, and the silence...</td>\n",
       "    </tr>\n",
       "    <tr>\n",
       "      <th>3</th>\n",
       "      <td>Two quotation marks walk into a “bar.”</td>\n",
       "    </tr>\n",
       "    <tr>\n",
       "      <th>4</th>\n",
       "      <td>A malapropism walks into a bar, looking for al...</td>\n",
       "    </tr>\n",
       "    <tr>\n",
       "      <th>5</th>\n",
       "      <td>Hyperbole totally rips into this insane bar an...</td>\n",
       "    </tr>\n",
       "    <tr>\n",
       "      <th>6</th>\n",
       "      <td>A question mark walks into a bar?</td>\n",
       "    </tr>\n",
       "    <tr>\n",
       "      <th>7</th>\n",
       "      <td>A non sequitur walks into a bar. In a strong w...</td>\n",
       "    </tr>\n",
       "    <tr>\n",
       "      <th>8</th>\n",
       "      <td>Papyrus and Comic Sans walk into a bar. The ba...</td>\n",
       "    </tr>\n",
       "    <tr>\n",
       "      <th>9</th>\n",
       "      <td>A mixed metaphor walks into a bar, seeing the ...</td>\n",
       "    </tr>\n",
       "    <tr>\n",
       "      <th>10</th>\n",
       "      <td>A comma splice walks into a bar, it has a drin...</td>\n",
       "    </tr>\n",
       "    <tr>\n",
       "      <th>11</th>\n",
       "      <td>Three intransitive verbs walk into a bar. They...</td>\n",
       "    </tr>\n",
       "    <tr>\n",
       "      <th>12</th>\n",
       "      <td>A synonym strolls into a tavern.</td>\n",
       "    </tr>\n",
       "    <tr>\n",
       "      <th>13</th>\n",
       "      <td>At the end of the day, a cliché walks into a b...</td>\n",
       "    </tr>\n",
       "    <tr>\n",
       "      <th>14</th>\n",
       "      <td>A run-on sentence walks into a bar it starts f...</td>\n",
       "    </tr>\n",
       "    <tr>\n",
       "      <th>15</th>\n",
       "      <td>Falling slowly, softly falling, the chiasmus c...</td>\n",
       "    </tr>\n",
       "    <tr>\n",
       "      <th>16</th>\n",
       "      <td>A figure of speech literally walks into a bar ...</td>\n",
       "    </tr>\n",
       "    <tr>\n",
       "      <th>17</th>\n",
       "      <td>An allusion walks into a bar, despite the fact...</td>\n",
       "    </tr>\n",
       "    <tr>\n",
       "      <th>18</th>\n",
       "      <td>The conditional would have walked into a bar, ...</td>\n",
       "    </tr>\n",
       "    <tr>\n",
       "      <th>19</th>\n",
       "      <td>A misplaced modifier walks into a bar owned by...</td>\n",
       "    </tr>\n",
       "    <tr>\n",
       "      <th>20</th>\n",
       "      <td>The past, present, and future walked into a ba...</td>\n",
       "    </tr>\n",
       "    <tr>\n",
       "      <th>21</th>\n",
       "      <td>A dyslexic walks into a bra.</td>\n",
       "    </tr>\n",
       "    <tr>\n",
       "      <th>22</th>\n",
       "      <td>A verb walks into a bar, sees a beautiful noun...</td>\n",
       "    </tr>\n",
       "    <tr>\n",
       "      <th>23</th>\n",
       "      <td>An Oxford comma walks into a bar, where it spe...</td>\n",
       "    </tr>\n",
       "    <tr>\n",
       "      <th>24</th>\n",
       "      <td>A simile walks into a bar, as parched as a des...</td>\n",
       "    </tr>\n",
       "    <tr>\n",
       "      <th>25</th>\n",
       "      <td>A gerund and an infinitive walk into a bar, dr...</td>\n",
       "    </tr>\n",
       "    <tr>\n",
       "      <th>26</th>\n",
       "      <td>A hyphenated word and a non-hyphenated word wa...</td>\n",
       "    </tr>\n",
       "    <tr>\n",
       "      <th>27</th>\n",
       "      <td>A period walks into a bar, full stop.</td>\n",
       "    </tr>\n",
       "    <tr>\n",
       "      <th>28</th>\n",
       "      <td>An alliteration boldly bounces into a bar and ...</td>\n",
       "    </tr>\n",
       "    <tr>\n",
       "      <th>29</th>\n",
       "      <td>An onomatopoeia walks into a bar without a sound.</td>\n",
       "    </tr>\n",
       "    <tr>\n",
       "      <th>30</th>\n",
       "      <td>Papyrus and Comic Sans walk into a bar. The ba...</td>\n",
       "    </tr>\n",
       "    <tr>\n",
       "      <th>31</th>\n",
       "      <td>An incomplete sentence into a bar.</td>\n",
       "    </tr>\n",
       "    <tr>\n",
       "      <th>32</th>\n",
       "      <td>A double contraction walks into a bar although...</td>\n",
       "    </tr>\n",
       "    <tr>\n",
       "      <th>33</th>\n",
       "      <td>An alliteration arrives at an authentic Alabam...</td>\n",
       "    </tr>\n",
       "    <tr>\n",
       "      <th>34</th>\n",
       "      <td>An Oxford comma walks into a bar, where it spe...</td>\n",
       "    </tr>\n",
       "    <tr>\n",
       "      <th>35</th>\n",
       "      <td>A synonym strolls into a tavern.</td>\n",
       "    </tr>\n",
       "    <tr>\n",
       "      <th>36</th>\n",
       "      <td>An asterisk walks into a bar and sits with a q...</td>\n",
       "    </tr>\n",
       "    <tr>\n",
       "      <th>37</th>\n",
       "      <td>A zeugma walks into a bar and the middle of a ...</td>\n",
       "    </tr>\n",
       "    <tr>\n",
       "      <th>38</th>\n",
       "      <td>A synecdoche walks into a bar and Hollywood tu...</td>\n",
       "    </tr>\n",
       "    <tr>\n",
       "      <th>39</th>\n",
       "      <td>A tautology walks into a bar, raises its glass...</td>\n",
       "    </tr>\n",
       "    <tr>\n",
       "      <th>40</th>\n",
       "      <td>An ellipsis walks into a…well it appeared to b...</td>\n",
       "    </tr>\n",
       "    <tr>\n",
       "      <th>41</th>\n",
       "      <td>An anagram WIAB, sat down, and looked around s...</td>\n",
       "    </tr>\n",
       "    <tr>\n",
       "      <th>42</th>\n",
       "      <td>A spoonerism balked into a war, and couldn’t w...</td>\n",
       "    </tr>\n",
       "    <tr>\n",
       "      <th>43</th>\n",
       "      <td>An exaggeration walked into a stupendous bar a...</td>\n",
       "    </tr>\n",
       "    <tr>\n",
       "      <th>44</th>\n",
       "      <td>A misspelling walked into a bar to soshalize w...</td>\n",
       "    </tr>\n",
       "    <tr>\n",
       "      <th>45</th>\n",
       "      <td>An antonym stayed in the bar.</td>\n",
       "    </tr>\n",
       "    <tr>\n",
       "      <th>46</th>\n",
       "      <td>A rhyme walked into a bar; and sat down wearil...</td>\n",
       "    </tr>\n",
       "    <tr>\n",
       "      <th>47</th>\n",
       "      <td>A giraffe goes into a bar. The bartender says,...</td>\n",
       "    </tr>\n",
       "    <tr>\n",
       "      <th>48</th>\n",
       "      <td>You mean an interrobang walked into a bar?!</td>\n",
       "    </tr>\n",
       "  </tbody>\n",
       "</table>\n",
       "</div>"
      ],
      "text/plain": [
       "                                                 joke\n",
       "0   A dangling participle walks into a bar. Enjoyi...\n",
       "1         A bar was walked into by the passive voice.\n",
       "2   An oxymoron walked into a bar, and the silence...\n",
       "3              Two quotation marks walk into a “bar.”\n",
       "4   A malapropism walks into a bar, looking for al...\n",
       "5   Hyperbole totally rips into this insane bar an...\n",
       "6                   A question mark walks into a bar?\n",
       "7   A non sequitur walks into a bar. In a strong w...\n",
       "8   Papyrus and Comic Sans walk into a bar. The ba...\n",
       "9   A mixed metaphor walks into a bar, seeing the ...\n",
       "10  A comma splice walks into a bar, it has a drin...\n",
       "11  Three intransitive verbs walk into a bar. They...\n",
       "12                   A synonym strolls into a tavern.\n",
       "13  At the end of the day, a cliché walks into a b...\n",
       "14  A run-on sentence walks into a bar it starts f...\n",
       "15  Falling slowly, softly falling, the chiasmus c...\n",
       "16  A figure of speech literally walks into a bar ...\n",
       "17  An allusion walks into a bar, despite the fact...\n",
       "18  The conditional would have walked into a bar, ...\n",
       "19  A misplaced modifier walks into a bar owned by...\n",
       "20  The past, present, and future walked into a ba...\n",
       "21                       A dyslexic walks into a bra.\n",
       "22  A verb walks into a bar, sees a beautiful noun...\n",
       "23  An Oxford comma walks into a bar, where it spe...\n",
       "24  A simile walks into a bar, as parched as a des...\n",
       "25  A gerund and an infinitive walk into a bar, dr...\n",
       "26  A hyphenated word and a non-hyphenated word wa...\n",
       "27              A period walks into a bar, full stop.\n",
       "28  An alliteration boldly bounces into a bar and ...\n",
       "29  An onomatopoeia walks into a bar without a sound.\n",
       "30  Papyrus and Comic Sans walk into a bar. The ba...\n",
       "31                 An incomplete sentence into a bar.\n",
       "32  A double contraction walks into a bar although...\n",
       "33  An alliteration arrives at an authentic Alabam...\n",
       "34  An Oxford comma walks into a bar, where it spe...\n",
       "35                   A synonym strolls into a tavern.\n",
       "36  An asterisk walks into a bar and sits with a q...\n",
       "37  A zeugma walks into a bar and the middle of a ...\n",
       "38  A synecdoche walks into a bar and Hollywood tu...\n",
       "39  A tautology walks into a bar, raises its glass...\n",
       "40  An ellipsis walks into a…well it appeared to b...\n",
       "41  An anagram WIAB, sat down, and looked around s...\n",
       "42  A spoonerism balked into a war, and couldn’t w...\n",
       "43  An exaggeration walked into a stupendous bar a...\n",
       "44  A misspelling walked into a bar to soshalize w...\n",
       "45                      An antonym stayed in the bar.\n",
       "46  A rhyme walked into a bar; and sat down wearil...\n",
       "47  A giraffe goes into a bar. The bartender says,...\n",
       "48        You mean an interrobang walked into a bar?!"
      ]
     },
     "execution_count": 9,
     "metadata": {},
     "output_type": "execute_result"
    }
   ],
   "source": [
    "options.display.max_colwidth = 50\n",
    "\n",
    "df_jokes"
   ]
  },
  {
   "cell_type": "markdown",
   "id": "d89c3239",
   "metadata": {},
   "source": [
    "### 2. Extracting `https://www.thrillist.com`\n",
    "\n",
    "Here again, most of the jokes are in `<p>` tags, except the first 2 and the last lines.\n",
    "Hence I trimmed them down."
   ]
  },
  {
   "cell_type": "code",
   "execution_count": 10,
   "id": "370c0ef0",
   "metadata": {},
   "outputs": [],
   "source": [
    "response = requests.get(urls['thrillist'], headers=headers)    "
   ]
  },
  {
   "cell_type": "code",
   "execution_count": 11,
   "id": "3651598a",
   "metadata": {},
   "outputs": [
    {
     "data": {
      "text/plain": [
       "[' A guy walks into a bar and asks for 10 shots of the establishment’s finest single malt scotch. The bartender sets him up, and the guy takes the first shot in the row and pours it on the floor. He then takes the last shot in the row and does the same. The bartender asks, \"Why did you do that?\" And the guy replies, \"Well the first shot always tastes like crap, and the last one always makes me sick!\" ',\n",
       " ' Three vampires walk into a bar. The first one says, \"I\\'ll have a pint of blood.\" The second one says, \"I\\'ll have one, too.\" The third one says, \"I\\'ll have a pint of plasma.\" The bartender says, \"So, that\\'ll be two Bloods and a Blood Lite?\" ',\n",
       " ' A guy walks into a bar after a long day at work and orders a drink. As he sits there, mulling over his day, he hears a high-pitched voice say, \"That shirt looks great on you!” The man looks around, doesn’t see anything, and returns to his drink thinking nothing more of it. But then, a moment later, the voice returns, this time offering, “You seem like a really cool guy!” Again, the man looks around, sees nothing, and returns to his drink, wondering if he should get checked out by a professional. Finally, when his nerves have cooled and he believes the voice is gone, he hears, “I bet your parents are really proud of you!” He slams down his drink and looks around wildly. Frustrated and finding no possible source of the voice, he calls over the bartender. He says, “Hey barkeep! What’s that voice I keep hearing?” “Oh, those are the peanuts,” the bartender replies. “They’re complimentary.” ',\n",
       " ' A neutron walks into a bar and orders a drink. When the neutron gets his drink, he asks, \"Bartender, how much do I owe you?\" The bartender replies, \"For you, neutron, no charge.\" ',\n",
       " ' A man walks into a bar and sees his friend sitting beside a 12-inch pianist. He says to his friend, \"That\\'s amazing. Where did he come from?\" The friend pulls out an old lamp and tells him the genie inside will grant him one wish. The man rubs the bottle, and to his amazement, a puff of purple smoke spews out and slowly collects in the form of a genie. In a booming voice the genie tells the man he has but one wish. The man thinks and says, \"I wish I had a million bucks.\" All of a sudden the bar is filled with ducks, bursting from the door and the windows, standing on top of the bar, dunking their heads into people’s drinks. “What just happened?!” the guy asks. His friend replies, \"I know. Did you really think I wanted a 12-inch pianist?\"  ']"
      ]
     },
     "execution_count": 11,
     "metadata": {},
     "output_type": "execute_result"
    }
   ],
   "source": [
    "soup = BeautifulSoup(response.content, 'html.parser')\n",
    "\n",
    "\n",
    "jokes_thrillist = list(map(lambda para: para.text, soup.find_all('p')))\n",
    "jokes_thrillist = jokes_thrillist[2:-1]\n",
    "jokes_thrillist[:5]"
   ]
  },
  {
   "cell_type": "code",
   "execution_count": 12,
   "id": "1b392206",
   "metadata": {},
   "outputs": [
    {
     "data": {
      "text/html": [
       "<div>\n",
       "<style scoped>\n",
       "    .dataframe tbody tr th:only-of-type {\n",
       "        vertical-align: middle;\n",
       "    }\n",
       "\n",
       "    .dataframe tbody tr th {\n",
       "        vertical-align: top;\n",
       "    }\n",
       "\n",
       "    .dataframe thead th {\n",
       "        text-align: right;\n",
       "    }\n",
       "</style>\n",
       "<table border=\"1\" class=\"dataframe\">\n",
       "  <thead>\n",
       "    <tr style=\"text-align: right;\">\n",
       "      <th></th>\n",
       "      <th>joke</th>\n",
       "    </tr>\n",
       "  </thead>\n",
       "  <tbody>\n",
       "    <tr>\n",
       "      <th>60</th>\n",
       "      <td>A horse walks into a bar, and the bartender a...</td>\n",
       "    </tr>\n",
       "    <tr>\n",
       "      <th>61</th>\n",
       "      <td>A mushroom walks into a bar and orders a drin...</td>\n",
       "    </tr>\n",
       "    <tr>\n",
       "      <th>62</th>\n",
       "      <td>Two friends are walking their dogs together. ...</td>\n",
       "    </tr>\n",
       "    <tr>\n",
       "      <th>63</th>\n",
       "      <td>A guy walks into a bar and orders 12 shots. B...</td>\n",
       "    </tr>\n",
       "    <tr>\n",
       "      <th>64</th>\n",
       "      <td>A sandwich walks into a bar. The bartender sa...</td>\n",
       "    </tr>\n",
       "    <tr>\n",
       "      <th>65</th>\n",
       "      <td>A young man is passing by a bar when he sees ...</td>\n",
       "    </tr>\n",
       "    <tr>\n",
       "      <th>66</th>\n",
       "      <td>A lion walks into a bar and asks the bartende...</td>\n",
       "    </tr>\n",
       "    <tr>\n",
       "      <th>67</th>\n",
       "      <td>A bartender says, “We don’t serve time travel...</td>\n",
       "    </tr>\n",
       "    <tr>\n",
       "      <th>68</th>\n",
       "      <td>The past, present and future walk into a bar....</td>\n",
       "    </tr>\n",
       "    <tr>\n",
       "      <th>69</th>\n",
       "      <td>A three-legged dog walks into a saloon, his s...</td>\n",
       "    </tr>\n",
       "  </tbody>\n",
       "</table>\n",
       "</div>"
      ],
      "text/plain": [
       "                                                 joke\n",
       "60   A horse walks into a bar, and the bartender a...\n",
       "61   A mushroom walks into a bar and orders a drin...\n",
       "62   Two friends are walking their dogs together. ...\n",
       "63   A guy walks into a bar and orders 12 shots. B...\n",
       "64   A sandwich walks into a bar. The bartender sa...\n",
       "65   A young man is passing by a bar when he sees ...\n",
       "66   A lion walks into a bar and asks the bartende...\n",
       "67   A bartender says, “We don’t serve time travel...\n",
       "68   The past, present and future walk into a bar....\n",
       "69   A three-legged dog walks into a saloon, his s..."
      ]
     },
     "execution_count": 12,
     "metadata": {},
     "output_type": "execute_result"
    }
   ],
   "source": [
    "df_jokes = df_jokes.append(pd.DataFrame({'joke': jokes_thrillist}), ignore_index=True)\n",
    "df_jokes[-10:]"
   ]
  },
  {
   "cell_type": "markdown",
   "id": "895518ef",
   "metadata": {},
   "source": [
    "### 3. Extracting `www.jokojokes.com`\n",
    "\n",
    "jokes are inside `div` class `listjoke`, however, the texts contain emojis which are removed."
   ]
  },
  {
   "cell_type": "code",
   "execution_count": 13,
   "id": "c20b9a33",
   "metadata": {},
   "outputs": [],
   "source": [
    "response = requests.get(urls['jokojokes'], headers=headers)"
   ]
  },
  {
   "cell_type": "code",
   "execution_count": 14,
   "id": "bff931a2",
   "metadata": {},
   "outputs": [
    {
     "data": {
      "text/plain": [
       "71"
      ]
     },
     "execution_count": 14,
     "metadata": {},
     "output_type": "execute_result"
    }
   ],
   "source": [
    "soup = BeautifulSoup(response.content, 'html.parser')\n",
    "\n",
    "jokes = []\n",
    "list_jokojokes = list(map(lambda div: div.text, soup.find_all('div', class_='listjoke')))\n",
    "for joke in list_jokojokes:\n",
    "    jokes.append(joke.replace('👍🏼', '').replace('\\n', ''))\n",
    "\n",
    "len(jokes)"
   ]
  },
  {
   "cell_type": "code",
   "execution_count": 15,
   "id": "8e226f55",
   "metadata": {},
   "outputs": [
    {
     "data": {
      "text/plain": [
       "(141, 1)"
      ]
     },
     "execution_count": 15,
     "metadata": {},
     "output_type": "execute_result"
    }
   ],
   "source": [
    "df_jokes = pd.concat([df_jokes, pd.DataFrame({'joke': jokes})], ignore_index=True)\n",
    "df_jokes.shape"
   ]
  },
  {
   "cell_type": "markdown",
   "id": "6a1cc156",
   "metadata": {},
   "source": [
    "The problem is that although the BeautifulSoup did capture 71 jokes, there are more jokes under `load more`\n",
    "which requires scrolling to the bottom of the page until the infinite scroll terminates, for which\n",
    "we require `Selenium` automation.\n",
    "We use it to scroll until the page ends and once the entire page content is unravelled we extract all the\n",
    "jokes using the same element selection."
   ]
  },
  {
   "cell_type": "code",
   "execution_count": 16,
   "id": "aa4646d8",
   "metadata": {},
   "outputs": [],
   "source": [
    "def scroll(driver, timeout):\n",
    "    scroll_pause_time = timeout\n",
    "\n",
    "    # Get scroll height\n",
    "    last_height = driver.execute_script(\"return document.body.scrollHeight\")\n",
    "\n",
    "    while True:\n",
    "\n",
    "        # Scroll down to bottom\n",
    "        driver.execute_script(\"window.scrollTo(0, document.body.scrollHeight);\")\n",
    "\n",
    "        # Wait to load page\n",
    "        time.sleep(scroll_pause_time)\n",
    "\n",
    "        # Calculate new scroll height and compare with last scroll height\n",
    "        new_height = driver.execute_script(\"return document.body.scrollHeight\")\n",
    "        if new_height == last_height:\n",
    "            # If heights are the same it will exit the function\n",
    "            break\n",
    "        last_height = new_height\n"
   ]
  },
  {
   "cell_type": "code",
   "execution_count": 17,
   "id": "67c1226d",
   "metadata": {},
   "outputs": [
    {
     "data": {
      "text/plain": [
       "1185"
      ]
     },
     "execution_count": 17,
     "metadata": {},
     "output_type": "execute_result"
    }
   ],
   "source": [
    "driver = get_driver(headless=False)\n",
    "driver.get(urls['jokojokes'])\n",
    "\n",
    "\n",
    "driver.find_element(By.CLASS_NAME, 'yellow-button').click()\n",
    "driver.implicitly_wait(1)\n",
    "\n",
    "\n",
    "scroll(driver, 2)\n",
    "jokes_new = []\n",
    "list_jk = list(map(lambda x: x.text, driver.find_elements(By.XPATH, \"//div[@class='listjoke']\")))\n",
    "for joke in list_jk:\n",
    "    jokes_new.append(joke.replace('👍🏼', '').replace('\\n', ''))\n",
    "\n",
    "\n",
    "driver.quit()\n",
    "len(jokes_new)"
   ]
  },
  {
   "cell_type": "code",
   "execution_count": 18,
   "id": "99e89b73",
   "metadata": {},
   "outputs": [
    {
     "data": {
      "text/plain": [
       "(1326, 1)"
      ]
     },
     "execution_count": 18,
     "metadata": {},
     "output_type": "execute_result"
    }
   ],
   "source": [
    "df_jokes = pd.concat([df_jokes, pd.DataFrame({'joke': jokes_new})], ignore_index=True)\n",
    "df_jokes.shape"
   ]
  },
  {
   "cell_type": "markdown",
   "id": "ac921ca9",
   "metadata": {},
   "source": [
    "### Extracting `www.gamertelligence.com`\n",
    "\n",
    "The jokes are divided into two parts. The first part is in the form of heading, under `h4.quest.Jokes`, \n",
    "and the remainder in the `learn-more-content` div. `innerText`.\n",
    "However, underneath `learn-more-content`, there are a couple of nested jokes which are interfering with\n",
    "the automation. Hence, for the sake of sanity, those nested jokes have been removed, ending with\n",
    "fewer jokes."
   ]
  },
  {
   "cell_type": "code",
   "execution_count": 19,
   "id": "14d4724c",
   "metadata": {},
   "outputs": [
    {
     "name": "stdout",
     "output_type": "stream",
     "text": [
      "172 171\n"
     ]
    }
   ],
   "source": [
    "driver = get_driver(headless=False)\n",
    "\n",
    "driver.get(urls['gamertelligence'])\n",
    "driver.implicitly_wait(2)\n",
    "headers = driver.find_elements(By.CSS_SELECTOR, 'div.post-content.entry-content > h4.quest.Jokes')\n",
    "paras = driver.find_elements(By.CSS_SELECTOR, \"div.post-content.entry-content > div.joke > div.learn-more-content > p\")\n",
    "remove = driver.find_elements(By.CSS_SELECTOR, \"div.post-content.entry-content > div.joke > div.learn-more-content > p ~ p\")\n",
    "\n",
    "\n",
    "jokes = []\n",
    "headers = [header.get_attribute('innerText') for header in headers]\n",
    "paras = [elem.get_attribute('innerText') for elem in paras]\n",
    "remove = [elem.get_attribute('innerText') for elem in remove]\n",
    "paras = [para for para in paras if para not in remove]\n",
    "\n",
    "print(len(headers), len(paras))\n",
    "driver.quit()"
   ]
  },
  {
   "cell_type": "markdown",
   "id": "be39b138",
   "metadata": {},
   "source": [
    "Removing enumerations for each header, as well as trailing elipsis."
   ]
  },
  {
   "cell_type": "code",
   "execution_count": 20,
   "id": "9168204a",
   "metadata": {},
   "outputs": [
    {
     "data": {
      "text/plain": [
       "172"
      ]
     },
     "execution_count": 20,
     "metadata": {},
     "output_type": "execute_result"
    }
   ],
   "source": [
    "headers = [re.sub(r\"^[0-9]+\\. \", '', header) for header in headers]\n",
    "headers = [re.sub(r\"\\.{2,}\\w\", '. ', header) for header in headers]\n",
    "\n",
    "jokes = []\n",
    "for i, (h, p) in enumerate(zip(headers, paras)):\n",
    "        jokes.append(h + p)\n",
    "\n",
    "jokes.append(headers[-1])       # last joke contains only header\n",
    "\n",
    "len(jokes)"
   ]
  },
  {
   "cell_type": "code",
   "execution_count": 21,
   "id": "5aee4ba8",
   "metadata": {},
   "outputs": [],
   "source": [
    "df_jokes = pd.concat([df_jokes, pd.DataFrame({'joke': jokes})], ignore_index=True)"
   ]
  },
  {
   "cell_type": "code",
   "execution_count": 22,
   "id": "3ed105d5",
   "metadata": {},
   "outputs": [
    {
     "data": {
      "text/plain": [
       "(1498, 1)"
      ]
     },
     "execution_count": 22,
     "metadata": {},
     "output_type": "execute_result"
    }
   ],
   "source": [
    "# removing unnecessary words\n",
    "df_jokes['joke'] = df_jokes['joke'].str.replace('show answer', '', case=False, regex=False)\n",
    "df_jokes['joke'] = df_jokes['joke'].str.replace(\"[\\learn_nore]\", '', case=False, regex=False)\n",
    "\n",
    "df_jokes.shape"
   ]
  },
  {
   "cell_type": "code",
   "execution_count": 23,
   "id": "0740f0a0",
   "metadata": {},
   "outputs": [],
   "source": [
    "df_jokes.reset_index(drop=True, inplace=True)\n",
    "\n",
    "df_jokes.to_csv('../data/jokes.csv')\n"
   ]
  },
  {
   "cell_type": "code",
   "execution_count": 28,
   "id": "465b26a8",
   "metadata": {},
   "outputs": [],
   "source": [
    "df_jokes = pd.read_csv('../data/jokes.csv')"
   ]
  },
  {
   "cell_type": "markdown",
   "id": "0ffe816d",
   "metadata": {},
   "source": [
    "And finally, it is done."
   ]
  },
  {
   "cell_type": "code",
   "execution_count": 33,
   "id": "c990ecad",
   "metadata": {},
   "outputs": [
    {
     "data": {
      "image/png": "[encoded data removed]",
      "text/plain": [
       "<Figure size 1440x720 with 1 Axes>"
      ]
     },
     "metadata": {
      "needs_background": "light"
     },
     "output_type": "display_data"
    }
   ],
   "source": [
    "img = Image.open('../data/wine.jpg')\n",
    "img = np.array(img.convert('L'))\n",
    "\n",
    "\n",
    "txt = \" \".join(df_jokes['joke'])\n",
    "wc = WordCloud(mask=img,  collocations=False, background_color='beige', height=500, width=800).generate(txt)\n",
    "plt.figure(figsize=(20, 10))\n",
    "\n",
    "plt.imshow(wc, interpolation='bilinear')\n",
    "plt.axis('off')\n",
    "plt.show()"
   ]
  },
  {
   "cell_type": "code",
   "execution_count": 34,
   "id": "99d31146",
   "metadata": {},
   "outputs": [
    {
     "data": {
      "text/plain": [
       "<wordcloud.wordcloud.WordCloud at 0x7f685be07370>"
      ]
     },
     "execution_count": 34,
     "metadata": {},
     "output_type": "execute_result"
    }
   ],
   "source": [
    "wc.to_file('../data/thumbnail.png')"
   ]
  }
 ],
 "metadata": {
  "interpreter": {
   "hash": "abe2418acfe078f5d6e8bbe6b0574a3538487ac747ef7abf3b9b40587d83c2f5"
  },
  "kernelspec": {
   "display_name": "Python 3.9.7 ('venv': venv)",
   "language": "python",
   "name": "python3"
  },
  "language_info": {
   "codemirror_mode": {
    "name": "ipython",
    "version": 3
   },
   "file_extension": ".py",
   "mimetype": "text/x-python",
   "name": "python",
   "nbconvert_exporter": "python",
   "pygments_lexer": "ipython3",
   "version": "3.9.7"
  }
 },
 "nbformat": 4,
 "nbformat_minor": 5
}
