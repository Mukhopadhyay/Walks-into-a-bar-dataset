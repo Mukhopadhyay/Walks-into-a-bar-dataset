{
 "cells": [
  {
   "cell_type": "code",
   "execution_count": 2,
   "id": "91da703e",
   "metadata": {},
   "outputs": [],
   "source": [
    "from typing import Dict, List\n",
    "from bs4 import BeautifulSoup\n",
    "import pandas as pd\n",
    "import requests\n",
    "import spacy"
   ]
  },
  {
   "cell_type": "code",
   "execution_count": 3,
   "id": "4d52ede0",
   "metadata": {},
   "outputs": [],
   "source": [
    "url: Dict[str, str] = {\n",
    "    'grammarbook': 'https://www.grammarbook.com/blog/definitions/walks-into-a-bar/',\n",
    "    'thrillist': 'https://www.thrillist.com/culture/best-walks-into-a-bar-jokes',\n",
    "    'jokojokes': 'https://jokojokes.com/walks-into-a-bar-jokes.html',\n",
    "    'gamertelligence': 'https://www.gamertelligence.com/walks-into-a-bar-jokes/'\n",
    "}"
   ]
  },
  {
   "cell_type": "code",
   "execution_count": 4,
   "id": "d401705e",
   "metadata": {},
   "outputs": [],
   "source": [
    "headers = {\n",
    "    'user-agent': 'Mozilla/5.0 (X11; Linux x86_64) AppleWebKit/537.36 (KHTML, like Gecko) Chrome/96.0.4664.93 Safari/537.36'\n",
    "}\n",
    "\n",
    "response = requests.get(url['grammarbook'], headers=headers)\n",
    "soup = BeautifulSoup(response.content, 'html.parser')\n",
    "\n",
    "div = soup.find_all('div', class_='content_user-content')[0]"
   ]
  },
  {
   "cell_type": "code",
   "execution_count": 5,
   "id": "ca4df5df",
   "metadata": {},
   "outputs": [
    {
     "name": "stdout",
     "output_type": "stream",
     "text": [
      "0. The phrase A ______ walks into a bar has provided the take-off point for an uncountable number of jokes over the years. No matter what one’s opinion is of bars, we hope that everyone can appreciate the lessons in English grammar contained in the clever sentences that follow:\n",
      "1. A dangling participle walks into a bar. Enjoying a cocktail and chatting with the bartender, the evening passes pleasantly.\n",
      "2. A bar was walked into by the passive voice.\n",
      "3. An oxymoron walked into a bar, and the silence was deafening.\n",
      "4. Two quotation marks walk into a “bar.”\n",
      "5. A malapropism walks into a bar, looking for all intensive purposes like a wolf in cheap clothing, muttering epitaphs and casting dispersions on his magnificent other, who takes him for granite.\n",
      "6. Hyperbole totally rips into this insane bar and absolutely destroys everything.\n",
      "7. A question mark walks into a bar?\n",
      "8. A non sequitur walks into a bar. In a strong wind, even turkeys can fly.\n",
      "9. Papyrus and Comic Sans walk into a bar. The bartender says, “Get out—we don’t serve your type.”\n",
      "10. A mixed metaphor walks into a bar, seeing the handwriting on the wall but hoping to nip it in the bud.\n",
      "11. A comma splice walks into a bar, it has a drink and then leaves.\n",
      "12. Three intransitive verbs walk into a bar. They sit. They converse. They depart.\n",
      "13. A synonym strolls into a tavern.\n",
      "14. At the end of the day, a cliché walks into a bar—fresh as a daisy, cute as a button, and sharp as a tack.\n",
      "15. A run-on sentence walks into a bar it starts flirting. With a cute little sentence fragment.\n",
      "16. Falling slowly, softly falling, the chiasmus collapses to the bar floor.\n",
      "17. A figure of speech literally walks into a bar and ends up getting figuratively hammered.\n",
      "18. An allusion walks into a bar, despite the fact that alcohol is its Achilles heel.\n",
      "19. The conditional would have walked into a bar, had it only known.\n",
      "20. A misplaced modifier walks into a bar owned by a man with a glass eye named Ralph.\n",
      "21. The past, present, and future walked into a bar. It was tense.\n",
      "22. A dyslexic walks into a bra.\n",
      "23. A verb walks into a bar, sees a beautiful noun, and suggests they conjugate. The noun declines.\n",
      "24. An Oxford comma walks into a bar, where it spends the evening watching the television getting drunk and smoking cigars.\n",
      "25. A simile walks into a bar, as parched as a desert.\n",
      "26. A gerund and an infinitive walk into a bar, drinking to forget.\n",
      "27. A hyphenated word and a non-hyphenated word walk into a bar and the bartender nearly chokes on the irony.\n",
      "28. Advertisement \n",
      "29. If the article or the existing discussions do not address a thought or question you have on the subject, please use the \"Comment\" box at the bottom of this page.Share\n",
      "Tweet\n",
      "Email   12 responses to “A _____ Walks Into a Bar”\t         Jeremy says:   April 11, 2018, at 4:50 pm  What a clever way of teaching English! I still don’t know why the noun declined to conjugate  Off the top of my head: A period walks into a bar, full stop. An alliteration boldly bounces into a bar and later walks away with a wobble. An onomatopoeia walks into a bar without a sound. Thanks so much for the great articles!      Jannis says:   April 21, 2018, at 10:45 pm  The noun must be Latin – Latin nouns decline, as do Latin teachers so they say.        Michael P. says:   April 19, 2018, at 2:56 pm  Papyrus and Comic Sans walk into a bar. The bartender says, “Get out—we don’t serve your type.” Hah, a virtual font of humor.      Tom says:   December 27, 2018, at 5:23 pm  An incomplete sentence into a bar. A double contraction walks into a bar although it oughtn’t’ve. An alliteration arrives at an authentic Alabama alehouse and asks for applejack. An Oxford comma walks into a bar, where it spends the evening with his old friend, a drunk and a felon. A synonym strolls into a tavern.      Marjorie says:   February 3, 2021, at 11:40 pm  An asterisk walks into a bar and sits with a quiet bibliography…        Gary L. Dryfoos says:   September 24, 2020, at 12:55 pm  A zeugma walks into a bar and the middle of a fierce argument. It knocks down a shot of bourbon and a pugnacious drunk. It leaves a generous tip and out the back door.      GrammarBook.com says:   October 1, 2020, at 7:15 pm  Clever. Many of us just learned a new word.        Joe Ellis says:   November 24, 2020, at 2:22 pm  A synecdoche walks into a bar and Hollywood turns it into a sitcom that runs for 11 seasons. A tautology walks into a bar, raises its glass upward, and announces to everyone present, “this is the first beer of the rest of your life!”      Steven w Bantle says:   May 6, 2021, at 11:45 am  An ellipsis walks into a…well it appeared to be a bar.      Clifton says:   May 21, 2021, at 7:12 am  An anagram WIAB, sat down, and looked around smugly. A spoonerism balked into a war, and couldn’t work out why everyone was confused. An exaggeration walked into a stupendous bar and ordered an exquisitively elegant drink. A misspelling walked into a bar to soshalize with its friends. An antonym stayed in the bar. A rhyme walked into a bar; and sat down wearily, it’d come so far.      John Barrington says:   June 21, 2021, at 12:01 am  A giraffe goes into a bar. The bartender says, “Why the soft ‘g’?”      George says:   November 30, 2021, at 5:07 pm  You mean an interrobang walked into a bar?!         Leave a Comment or Question: Cancel replyPlease ensure that your question or comment relates to the topic of the blog post. Unrelated comments may be deleted. If necessary, use the \"Search\" box on the right side of the page to find a post closely related to your question or comment.Your email address will not be published. Required fields are marked *Comment Name *  Email *     Δ  \n",
      "30. Share\n",
      "Tweet\n",
      "Email   12 responses to “A _____ Walks Into a Bar”\t         Jeremy says:   April 11, 2018, at 4:50 pm  What a clever way of teaching English! I still don’t know why the noun declined to conjugate  Off the top of my head: A period walks into a bar, full stop. An alliteration boldly bounces into a bar and later walks away with a wobble. An onomatopoeia walks into a bar without a sound. Thanks so much for the great articles!      Jannis says:   April 21, 2018, at 10:45 pm  The noun must be Latin – Latin nouns decline, as do Latin teachers so they say.        Michael P. says:   April 19, 2018, at 2:56 pm  Papyrus and Comic Sans walk into a bar. The bartender says, “Get out—we don’t serve your type.” Hah, a virtual font of humor.      Tom says:   December 27, 2018, at 5:23 pm  An incomplete sentence into a bar. A double contraction walks into a bar although it oughtn’t’ve. An alliteration arrives at an authentic Alabama alehouse and asks for applejack. An Oxford comma walks into a bar, where it spends the evening with his old friend, a drunk and a felon. A synonym strolls into a tavern.      Marjorie says:   February 3, 2021, at 11:40 pm  An asterisk walks into a bar and sits with a quiet bibliography…        Gary L. Dryfoos says:   September 24, 2020, at 12:55 pm  A zeugma walks into a bar and the middle of a fierce argument. It knocks down a shot of bourbon and a pugnacious drunk. It leaves a generous tip and out the back door.      GrammarBook.com says:   October 1, 2020, at 7:15 pm  Clever. Many of us just learned a new word.        Joe Ellis says:   November 24, 2020, at 2:22 pm  A synecdoche walks into a bar and Hollywood turns it into a sitcom that runs for 11 seasons. A tautology walks into a bar, raises its glass upward, and announces to everyone present, “this is the first beer of the rest of your life!”      Steven w Bantle says:   May 6, 2021, at 11:45 am  An ellipsis walks into a…well it appeared to be a bar.      Clifton says:   May 21, 2021, at 7:12 am  An anagram WIAB, sat down, and looked around smugly. A spoonerism balked into a war, and couldn’t work out why everyone was confused. An exaggeration walked into a stupendous bar and ordered an exquisitively elegant drink. A misspelling walked into a bar to soshalize with its friends. An antonym stayed in the bar. A rhyme walked into a bar; and sat down wearily, it’d come so far.      John Barrington says:   June 21, 2021, at 12:01 am  A giraffe goes into a bar. The bartender says, “Why the soft ‘g’?”      George says:   November 30, 2021, at 5:07 pm  You mean an interrobang walked into a bar?!         Leave a Comment or Question: Cancel replyPlease ensure that your question or comment relates to the topic of the blog post. Unrelated comments may be deleted. If necessary, use the \"Search\" box on the right side of the page to find a post closely related to your question or comment.Your email address will not be published. Required fields are marked *Comment Name *  Email *     Δ  \n",
      "31. What a clever way of teaching English! I still don’t know why the noun declined to conjugate \n",
      "32. Off the top of my head:\n",
      "33. A period walks into a bar, full stop.\n",
      "34. An alliteration boldly bounces into a bar and later walks away with a wobble.\n",
      "35. An onomatopoeia walks into a bar without a sound.\n",
      "36. Thanks so much for the great articles!\n",
      "37. The noun must be Latin – Latin nouns decline, as do Latin teachers so they say.\n",
      "38. Papyrus and Comic Sans walk into a bar. The bartender says, “Get out—we don’t serve your type.” Hah, a virtual font of humor.\n",
      "39. An incomplete sentence into a bar. A double contraction walks into a bar although it oughtn’t’ve. An alliteration arrives at an authentic Alabama alehouse and asks for applejack. An Oxford comma walks into a bar, where it spends the evening with his old friend, a drunk and a felon. A synonym strolls into a tavern.\n",
      "40. An asterisk walks into a bar and sits with a quiet bibliography…\n",
      "41. A zeugma walks into a bar and the middle of a fierce argument. It knocks down a shot of bourbon and a pugnacious drunk. It leaves a generous tip and out the back door.\n",
      "42. Clever. Many of us just learned a new word.\n",
      "43. A synecdoche walks into a bar and Hollywood turns it into a sitcom that runs for 11 seasons. A tautology walks into a bar, raises its glass upward, and announces to everyone present, “this is the first beer of the rest of your life!”\n",
      "44. An ellipsis walks into a…well it appeared to be a bar.\n",
      "45. An anagram WIAB, sat down, and looked around smugly. A spoonerism balked into a war, and couldn’t work out why everyone was confused. An exaggeration walked into a stupendous bar and ordered an exquisitively elegant drink. A misspelling walked into a bar to soshalize with its friends. An antonym stayed in the bar. A rhyme walked into a bar; and sat down wearily, it’d come so far.\n",
      "46. A giraffe goes into a bar. The bartender says, “Why the soft ‘g’?”\n",
      "47. You mean an interrobang walked into a bar?!\n",
      "48. Leave a Comment or Question: Cancel reply\n",
      "49. Please ensure that your question or comment relates to the topic of the blog post. Unrelated comments may be deleted. If necessary, use the \"Search\" box on the right side of the page to find a post closely related to your question or comment.Your email address will not be published. Required fields are marked *\n",
      "50. Comment \n",
      "51. Name * \n",
      "52. Email * \n",
      "53.    \n",
      "54. \n",
      "55. Δ\n"
     ]
    }
   ],
   "source": [
    "jokes: List[str] = []\n",
    "for i, item in enumerate(div.find_all('p')):\n",
    "    print(f\"{i}. {item.text}\")"
   ]
  },
  {
   "cell_type": "code",
   "execution_count": 6,
   "id": "6378f358",
   "metadata": {},
   "outputs": [
    {
     "data": {
      "text/plain": [
       "['A dangling participle walks into a bar. Enjoying a cocktail and chatting with the bartender, the evening passes pleasantly.',\n",
       " 'A bar was walked into by the passive voice.',\n",
       " 'An oxymoron walked into a bar, and the silence was deafening.',\n",
       " 'Two quotation marks walk into a “bar.”',\n",
       " 'A malapropism walks into a bar, looking for all intensive purposes like a wolf in cheap clothing, muttering epitaphs and casting dispersions on his magnificent other, who takes him for granite.',\n",
       " 'Hyperbole totally rips into this insane bar and absolutely destroys everything.',\n",
       " 'A question mark walks into a bar?',\n",
       " 'A non sequitur walks into a bar. In a strong wind, even turkeys can fly.',\n",
       " 'Papyrus and Comic Sans walk into a bar. The bartender says, “Get out—we don’t serve your type.”',\n",
       " 'A mixed metaphor walks into a bar, seeing the handwriting on the wall but hoping to nip it in the bud.',\n",
       " 'A comma splice walks into a bar, it has a drink and then leaves.',\n",
       " 'Three intransitive verbs walk into a bar. They sit. They converse. They depart.',\n",
       " 'A synonym strolls into a tavern.',\n",
       " 'At the end of the day, a cliché walks into a bar—fresh as a daisy, cute as a button, and sharp as a tack.',\n",
       " 'A run-on sentence walks into a bar it starts flirting. With a cute little sentence fragment.',\n",
       " 'Falling slowly, softly falling, the chiasmus collapses to the bar floor.',\n",
       " 'A figure of speech literally walks into a bar and ends up getting figuratively hammered.',\n",
       " 'An allusion walks into a bar, despite the fact that alcohol is its Achilles heel.',\n",
       " 'The conditional would have walked into a bar, had it only known.',\n",
       " 'A misplaced modifier walks into a bar owned by a man with a glass eye named Ralph.',\n",
       " 'The past, present, and future walked into a bar. It was tense.',\n",
       " 'A dyslexic walks into a bra.',\n",
       " 'A verb walks into a bar, sees a beautiful noun, and suggests they conjugate. The noun declines.',\n",
       " 'An Oxford comma walks into a bar, where it spends the evening watching the television getting drunk and smoking cigars.',\n",
       " 'A simile walks into a bar, as parched as a desert.',\n",
       " 'A gerund and an infinitive walk into a bar, drinking to forget.',\n",
       " 'A hyphenated word and a non-hyphenated word walk into a bar and the bartender nearly chokes on the irony.']"
      ]
     },
     "execution_count": 6,
     "metadata": {},
     "output_type": "execute_result"
    }
   ],
   "source": [
    "for item in div.find_all('p'):\n",
    "    jokes.append(item.text)\n",
    "    \n",
    "jokes = jokes[1:28]\n",
    "jokes"
   ]
  },
  {
   "cell_type": "code",
   "execution_count": 7,
   "id": "370c0ef0",
   "metadata": {},
   "outputs": [],
   "source": [
    "response = requests.get(url['thrillist'], headers=headers)    "
   ]
  },
  {
   "cell_type": "code",
   "execution_count": 8,
   "id": "3651598a",
   "metadata": {},
   "outputs": [
    {
     "data": {
      "text/plain": [
       "['You may think you’ve heard every joke that begins, “So X walks into a bar,” but we’re pretty confident you’ve missed a few. Refresh your dad joke repertoire and earn your rightful place as the resident comic at your local bar with these great “walks into a bar” jokes. (We promise not to tell anyone where you got all your material.) ',\n",
       " ' A guy walks into a bar and asks for 10 shots of the establishment’s finest single malt scotch. The bartender sets him up, and the guy takes the first shot in the row and pours it on the floor. He then takes the last shot in the row and does the same. The bartender asks, \"Why did you do that?\" And the guy replies, \"Well the first shot always tastes like crap, and the last one always makes me sick!\" ',\n",
       " ' Three vampires walk into a bar. The first one says, \"I\\'ll have a pint of blood.\" The second one says, \"I\\'ll have one, too.\" The third one says, \"I\\'ll have a pint of plasma.\" The bartender says, \"So, that\\'ll be two Bloods and a Blood Lite?\" ',\n",
       " ' A guy walks into a bar after a long day at work and orders a drink. As he sits there, mulling over his day, he hears a high-pitched voice say, \"That shirt looks great on you!” The man looks around, doesn’t see anything, and returns to his drink thinking nothing more of it. But then, a moment later, the voice returns, this time offering, “You seem like a really cool guy!” Again, the man looks around, sees nothing, and returns to his drink, wondering if he should get checked out by a professional. Finally, when his nerves have cooled and he believes the voice is gone, he hears, “I bet your parents are really proud of you!” He slams down his drink and looks around wildly. Frustrated and finding no possible source of the voice, he calls over the bartender. He says, “Hey barkeep! What’s that voice I keep hearing?” “Oh, those are the peanuts,” the bartender replies. “They’re complimentary.” ',\n",
       " ' A neutron walks into a bar and orders a drink. When the neutron gets his drink, he asks, \"Bartender, how much do I owe you?\" The bartender replies, \"For you, neutron, no charge.\" ']"
      ]
     },
     "execution_count": 8,
     "metadata": {},
     "output_type": "execute_result"
    }
   ],
   "source": [
    "soup = BeautifulSoup(response.content, 'html.parser')\n",
    "\n",
    "\n",
    "jokes_thrillist = list(map(lambda para: para.text, soup.find_all('p')))\n",
    "jokes_thrillist = jokes_thrillist[1:-1]\n",
    "jokes_thrillist[:5]"
   ]
  },
  {
   "cell_type": "code",
   "execution_count": 9,
   "id": "1b392206",
   "metadata": {},
   "outputs": [],
   "source": [
    "jokes += jokes_thrillist"
   ]
  },
  {
   "cell_type": "code",
   "execution_count": 10,
   "id": "c20b9a33",
   "metadata": {},
   "outputs": [],
   "source": [
    "response = requests.get(url['jokojokes'], headers=headers)"
   ]
  },
  {
   "cell_type": "code",
   "execution_count": 11,
   "id": "bff931a2",
   "metadata": {},
   "outputs": [],
   "source": [
    "soup = BeautifulSoup(response.content, 'html.parser')\n",
    "\n",
    "list_jokojokes = list(map(lambda div: div.text, soup.find_all('div', class_='listjoke')))\n",
    "for joke in list_jokojokes:\n",
    "    jokes.append(joke.replace('👍🏼', ''))"
   ]
  },
  {
   "cell_type": "code",
   "execution_count": 41,
   "id": "599e99cd",
   "metadata": {},
   "outputs": [
    {
     "name": "stdout",
     "output_type": "stream",
     "text": [
      "(a bar,)\n",
      "(A bar, the passive voice)\n",
      "(An oxymoron, a bar, the silence)\n",
      "(Two quotation marks, a “bar)\n",
      "(A malapropism, a bar, all intensive purposes, a wolf, cheap clothing, epitaphs, dispersions, who, him, granite)\n",
      "(Hyperbole, this insane bar, everything)\n",
      "(A question mark, a bar)\n",
      "(A non sequitur, a bar)\n",
      "(Papyrus and Comic Sans, a bar)\n",
      "(A mixed metaphor, a bar, the handwriting, the wall, it, the bud)\n",
      "(splice, a bar, it, a drink)\n",
      "(Three intransitive verbs, a bar)\n",
      "(A synonym, a tavern)\n",
      "(the end, the day, a cliché, a bar, a daisy, a button, a tack)\n",
      "(a bar, it)\n",
      "(the chiasmus, the bar floor)\n",
      "(A figure, speech, a bar)\n",
      "(An allusion, a bar, the fact, alcohol, its Achilles heel)\n",
      "(a bar, it)\n",
      "(A misplaced modifier, a bar, a man, a glass eye, Ralph)\n",
      "(The past, future, a bar)\n",
      "(A dyslexic, a bra)\n",
      "(A verb, a bar, a beautiful noun, they)\n",
      "(An Oxford comma, a bar, it, the evening, the television, drunk and smoking cigars)\n",
      "(A simile, a bar, a desert)\n",
      "(A gerund, an infinitive walk, a bar)\n",
      "(A hyphenated word, a non-hyphenated word, a bar, the bartender, the irony)\n",
      "(You, you, every joke, that, X, a bar, we, you)\n",
      "(A guy, a bar, 10 shots, the establishment’s finest single malt scotch)\n",
      "(Three vampires, a bar)\n",
      "(A guy, a bar, a long day, work, a drink)\n",
      "(A neutron, a bar, a drink)\n",
      "(A man, a bar, his friend, a 12-inch pianist)\n",
      "(A gorilla, a bar, A scotch, the rocks)\n",
      "( E-flat walks, a bar)\n",
      "(Julius Caesar, a bar, I, a Martinus)\n",
      "(A duck, a bar, the bartender, I, some peanuts)\n",
      "(A horse, a bar)\n",
      "(A guy, a bar, a horse tending bar)\n",
      "(A horse, a bar, the bartender, what, he)\n",
      "(A mushroom, a bar, a drink, the bartender, him, he, the place)\n",
      "(Two friends, their dogs)\n",
      "(A guy, a bar, 12 shots)\n",
      "(A sandwich, a bar)\n",
      "(A young man, a bar, he, an old woman, a stick, a string, a puddle, the sidewalk)\n",
      "(A lion, a bar, the bartender, you, any jobs)\n",
      "(A bartender, We, time travelers)\n",
      "(The past, a bar)\n",
      "(A three-legged dog, a saloon, his spurs, he, his six-shooter slapping, his furry hip)\n",
      "(A rabbi, a priest, a Lutheran minister, a bar)\n",
      "(Three conspiracy theorists, a bar, You, me, that, just a coincidence)\n",
      "(Cardi B, Bill Cosby, a bar)\n",
      "(A guy, a bar, Eminem)\n",
      "(A weasel, a bar)\n",
      "(A nihilist, a socialist, a neo-marxist walk, a bar and order drinks)\n",
      "(A guy, a bar)\n",
      "(Two deer, a gay bar, I, I, thirty bucks)\n",
      "(Guy, a bar, a gun, snarls, who, sex, my wife)\n",
      "(A Russian spy, a sexual predator, a bar, Bartender, I, you)\n",
      "(A horse, a bar, Bartender, Horse)\n",
      "(Two chemists, a bar)\n",
      "(A man, a bar, a fat girl, a table)\n",
      "(A piece, toast, a hard boiled egg, a bar)\n",
      "(A guy, a bar, a sign, that)\n",
      "(A horse, a bar)\n",
      "(Two condoms, the street, They, a gay bar, one condom, you)\n",
      "(A man, a very small head, a bar, the bartender, your head, He, I, this island, nothing, beautiful women, who, a man)\n",
      "( A feminist, a Muslim walk, a bar)\n",
      "(A bear, a bar)\n",
      "(An Irish guy, a bar)\n",
      "(Two scientists, a bar)\n",
      "(Snake, a bar)\n",
      "(An Englishman, a Scotsman, an Irishman walk, a bar, An Englishman, a Scotsman, an Irishman walk, a bar, The Englishman, they, all)\n",
      "(A horse, a bar)\n",
      "(The director, EA, a bar, Download, the punchline)\n",
      "(Gordon Ramsay, a bar, a glass, water, ice)\n",
      "(this Limbo Champion, a bar)\n",
      "(An ego, a superego walk, a bar)\n",
      "( A Black Guy, a Mexican, a Muslim, Bartender, We, jokes)\n",
      "(A Guy, a bar, A man, a bar, me, a beer, the problems)\n",
      "(An atheist, a vegan, a crossfitter, a bar)\n",
      "(Two fat ladies, a bar, They, a thick accent)\n",
      "(A blind man, a bar, The bartender)\n",
      "(I, a bar, this girl, a Falcons jersey)\n",
      "(C, C++, a bar)\n",
      "(A cat, a bar)\n",
      "(An underage weasel, a bar)\n",
      "(An Englishman, a Scotsman, a Northern Irishman, a bar)\n",
      "(Joke, I, Caveman, a bear walk, a bar)\n",
      "(the CEO, EA, a bar)\n",
      "(A man, a bar, a newt, his shoulder)\n",
      "(An infinite number, people, a bar)\n",
      "(The bartender, we, time travellers)\n",
      "(A Jake Paul fan,)\n",
      "(a guy, a bar, a pint)\n",
      "(A termite, the bar tender)\n",
      "(Two deer, a gay bar, I, twenty bucks)\n",
      "(An etymologist, an entomologist, an etiologist, a bar)\n",
      "(Two blondes, a bar, You, the second one)\n",
      "(A guy, a bar)\n",
      "(David Hasselhoff, a drink)\n",
      "(A man, a bar, I, 7 double wiskeys)\n",
      "(A guy, a bar, 3 pieces, meat, the ceiling)\n",
      "(A man, a bar, it, it, just him, the bartender)\n",
      "(A man, a bar, 2 steaks, the ceiling)\n",
      "(A sexual predator, a racist, a Russian spy, a bar)\n",
      "(It, a five minute walk, my house, the bar)\n",
      "(A man, a bar, free beers)\n",
      "(This, an old joke, my husband, me, it)\n",
      "(A bear, a bar, I, a gin, ..........tonic)\n",
      "(Quarantine, a damper, comedy)\n",
      "(A duck, a bar, you, any bread, Duck, you, any bread, Duck, you, any bread, Barman, I, any bread, you, I, your beak, the bar, any nails)\n",
      "(A software tester, a bar)\n",
      "(A horse, a bar, a pint, The bartender, you)\n",
      "(A software tester, a bar)\n",
      "(An atheist, a vegan, a bar)\n",
      "(my cake day, I, my favorite joke, all time)\n",
      "(a woman, A single guy, a bar, a beer)\n",
      "(A man, a bar)\n",
      "(A guy, a tall building, a bar, a drunk man)\n",
      "(A guy, a bar, 10 shots, the establishment's finest single malt scotch)\n"
     ]
    }
   ],
   "source": [
    "nlp = spacy.load('en_core_web_sm')\n",
    "sample_text = jokes[0]\n",
    "\n",
    "doc = nlp(sample_text)\n",
    "\n",
    "# print(sample_text)\n",
    "\n",
    "for joke in jokes:\n",
    "    first_sent = list(nlp(joke).sents)[0]\n",
    "    print(tuple(first_sent.noun_chunks))\n",
    "    "
   ]
  },
  {
   "cell_type": "code",
   "execution_count": 13,
   "id": "ac921ca9",
   "metadata": {},
   "outputs": [],
   "source": [
    "response = requests.get(url['gamertelligence'], headers=headers)\n",
    "# this website has the jokes categorized into different genres, which can be\n",
    "# used later for genre categorization"
   ]
  },
  {
   "cell_type": "code",
   "execution_count": 14,
   "id": "14d4724c",
   "metadata": {},
   "outputs": [],
   "source": [
    "soup = BeautifulSoup(response.content, 'html.parser')\n",
    "\n",
    "outer = soup.find_all(id='Best')[0].parent"
   ]
  },
  {
   "cell_type": "code",
   "execution_count": null,
   "id": "04bd0807",
   "metadata": {},
   "outputs": [],
   "source": []
  }
 ],
 "metadata": {
  "kernelspec": {
   "display_name": "Python 3 (ipykernel)",
   "language": "python",
   "name": "python3"
  },
  "language_info": {
   "codemirror_mode": {
    "name": "ipython",
    "version": 3
   },
   "file_extension": ".py",
   "mimetype": "text/x-python",
   "name": "python",
   "nbconvert_exporter": "python",
   "pygments_lexer": "ipython3",
   "version": "3.9.7"
  }
 },
 "nbformat": 4,
 "nbformat_minor": 5
}
